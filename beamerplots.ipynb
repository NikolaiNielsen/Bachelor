{
 "cells": [
  {
   "cell_type": "code",
   "execution_count": 2,
   "metadata": {},
   "outputs": [],
   "source": [
    "from cmp import *\n",
    "import pdir\n",
    "%matplotlib qt"
   ]
  },
  {
   "cell_type": "code",
   "execution_count": 3,
   "metadata": {},
   "outputs": [],
   "source": [
    "margin = 0.05\n",
    "fig, ax = Lattice(max_=[3,3,3], sizes=[1], returns=True)\n",
    "ax.view_init(30,-70)\n",
    "fig.subplots_adjust(left=-margin, right=1+margin, top=1+margin, bottom=-margin)\n",
    "fig.savefig('beamer/figures/cubic_grid.pdf')\n",
    "\n",
    "margin=0.08\n",
    "fig, ax = Lattice(sizes=[1], returns=True)\n",
    "fig.subplots_adjust(left=-margin, right=1+margin, top=1+margin, bottom=-margin)\n",
    "ax.view_init(30, -70)\n",
    "fig.savefig('beamer/figures/cubic_small.pdf')"
   ]
  },
  {
   "cell_type": "code",
   "execution_count": 4,
   "metadata": {},
   "outputs": [],
   "source": [
    "margin = 0.05\n",
    "\n",
    "fig, axis = Lattice(max_=[3,3,3], sizes=[1], grid=False, returns=True)\n",
    "ax.view_init(30, -70)\n",
    "fig.subplots_adjust(left=-margin, right=1+margin, top=1+margin, bottom=-margin)\n",
    "fig.savefig('beamer/figures/cubic_no_grid.pdf')"
   ]
  },
  {
   "cell_type": "code",
   "execution_count": 5,
   "metadata": {},
   "outputs": [],
   "source": [
    "margin = 0.15\n",
    "a1, a2, a3 = np.eye(3)\n",
    "basis = np.array([[0, 0, 0],\n",
    "                  [0.5, 0.5, 0.5]])\n",
    "\n",
    "colors = ['xkcd:cement', 'b']\n",
    "sizes = [2, 2]\n",
    "grid_type = \"latticevectors\"\n",
    "type_ = \"primitive\"\n",
    "n_min = np.array([0, 0, 0])\n",
    "n_max = np.array([1, 1, 1])\n",
    "\n",
    "\n",
    "(atomic_positions, lattice_coefficients, atomic_colors, atomic_sizes, \n",
    " lattice_position) = lattices.generator(a1, a2, a3, basis, colors, sizes,\n",
    "                                        n_min, n_max)\n",
    "# Create the figure\n",
    "fig = plt.figure(figsize=(2,2))\n",
    "ax = fig.gca(projection=\"3d\")\n",
    "\n",
    "# Plot atoms\n",
    "ax.scatter(atomic_positions[:, 0], atomic_positions[:, 1],\n",
    "           atomic_positions[:, 2], c=atomic_colors, s=atomic_sizes)\n",
    "\n",
    "# Get the relevant gridlines:\n",
    "g_col = 'k'\n",
    "g_w = 0.5\n",
    "pruned_lines = lattices.grid_lines(a1, a2, a3, atomic_positions,\n",
    "                                   lattice_position, grid_type)\n",
    "for line in pruned_lines:\n",
    "    ax.plot(line[0], line[1], line[2], color=g_col, linewidth=g_w)\n",
    "\n",
    "ax.set_aspect('equal')\n",
    "ax.set_proj_type('ortho')\n",
    "ax.grid(False)\n",
    "ax.axis('off')\n",
    "\n",
    "# make the panes transparent (the plot box)\n",
    "ax.xaxis.set_pane_color((1.0, 1.0, 1.0, 0.0))\n",
    "ax.yaxis.set_pane_color((1.0, 1.0, 1.0, 0.0))\n",
    "ax.zaxis.set_pane_color((1.0, 1.0, 1.0, 0.0))\n",
    "\n",
    "ax.view_init(15, -60)\n",
    "fig.subplots_adjust(left=-margin, right=1+margin, top=1+margin, bottom=-margin)\n",
    "fig.savefig('beamer/figures/lattice_unfinished_1.pdf')"
   ]
  },
  {
   "cell_type": "code",
   "execution_count": 9,
   "metadata": {},
   "outputs": [],
   "source": [
    "margin = 0.17\n",
    "size = 10\n",
    "fig, ax = Lattice(lattice_name=\"conventional fcc\", sizes=size, max_=(1,1,1), arrows=False, returns=True)\n",
    "ax.view_init(10, -70)\n",
    "fig.subplots_adjust(left=-margin, right=1+margin, top=1+margin, bottom=-margin)\n",
    "fig.savefig('beamer/figures/fcc.pdf')"
   ]
  },
  {
   "cell_type": "code",
   "execution_count": 8,
   "metadata": {},
   "outputs": [],
   "source": [
    "margin = 0.17\n",
    "size = 10\n",
    "fig, ax = Lattice(lattice_name=\"conventional bcc\", sizes=size, max_=(1,1,1), arrows=False, returns=True)\n",
    "ax.view_init(10, -70)\n",
    "fig.subplots_adjust(left=-margin, right=1+margin, top=1+margin, bottom=-margin)\n",
    "fig.savefig('beamer/figures/bcc.pdf')"
   ]
  },
  {
   "cell_type": "code",
   "execution_count": null,
   "metadata": {},
   "outputs": [],
   "source": []
  }
 ],
 "metadata": {
  "kernelspec": {
   "display_name": "Python 3",
   "language": "python",
   "name": "python3"
  },
  "language_info": {
   "codemirror_mode": {
    "name": "ipython",
    "version": 3
   },
   "file_extension": ".py",
   "mimetype": "text/x-python",
   "name": "python",
   "nbconvert_exporter": "python",
   "pygments_lexer": "ipython3",
   "version": "3.6.5"
  }
 },
 "nbformat": 4,
 "nbformat_minor": 2
}
