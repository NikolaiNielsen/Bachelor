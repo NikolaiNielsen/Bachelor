{
 "cells": [
  {
   "cell_type": "code",
   "execution_count": null,
   "metadata": {},
   "outputs": [],
   "source": [
    "from cmp include *\n",
    "%matplotlib notebook"
   ]
  },
  {
   "cell_type": "code",
   "execution_count": null,
   "metadata": {},
   "outputs": [],
   "source": [
    "# First we plot a hexagonal lattice\n",
    "Lattice(lattice_name='hexagonal')\n",
    "\n",
    "# Then maybe an fcc lattice, where we manually specify the basis\n",
    "Lattice(a1=np.array([0.5, 0.5, 0]),\n",
    "        a2=np.array([0.5, 0, 0.5]),\n",
    "        a3=np.array([0, 0.5, 0.5]))\n",
    "# Note that we don't need to specify the basis if it only includes one atom"
   ]
  },
  {
   "cell_type": "code",
   "execution_count": null,
   "metadata": {},
   "outputs": [],
   "source": [
    "# Lets try some scattering. An fcc lattice with k_in=[0,0,-1] (in units of 2pi/a:\n",
    "Scattering(lattice_name='fcc',\n",
    "           k_in=[0,0,-1])\n",
    "\n",
    "# What If I want to normalize myself? Then I'll need to include a factor of pi, for sure\n",
    "# pi is written as \"np.pi\", as it is provided by the numpy package:\n",
    "Scattering(lattice_name='fcc',\n",
    "           normalize=False,\n",
    "           k_in=[0,0,-2*np.pi])"
   ]
  },
  {
   "cell_type": "code",
   "execution_count": null,
   "metadata": {},
   "outputs": [],
   "source": [
    "# Let's  plot the dispersion of free particles\n",
    "Band_structure(V0=0,\n",
    "               n_k=101)\n",
    "\n",
    "# Or for a medium strength dirac potential, say V0=10^4:\n",
    "Band_structure(V0=10**4,\n",
    "               n_k=51,\n",
    "               potential='dirac')\n",
    "\n",
    "# Remember that the strong potential limit for the harmonic potential is V0=1!"
   ]
  }
 ],
 "metadata": {
  "kernelspec": {
   "display_name": "Python 3",
   "language": "python",
   "name": "python3"
  },
  "language_info": {
   "codemirror_mode": {
    "name": "ipython",
    "version": 3
   },
   "file_extension": ".py",
   "mimetype": "text/x-python",
   "name": "python",
   "nbconvert_exporter": "python",
   "pygments_lexer": "ipython3",
   "version": "3.6.5"
  }
 },
 "nbformat": 4,
 "nbformat_minor": 2
}
