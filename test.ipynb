{
 "cells": [
  {
   "cell_type": "code",
   "execution_count": 2,
   "metadata": {},
   "outputs": [],
   "source": [
    "from cmp import *\n",
    "%matplotlib qt"
   ]
  },
  {
   "cell_type": "code",
   "execution_count": 3,
   "metadata": {},
   "outputs": [],
   "source": [
    "# First we plot a hexagonal lattice\n",
    "Lattice(lattice_name='hexagonal')"
   ]
  },
  {
   "cell_type": "code",
   "execution_count": 4,
   "metadata": {},
   "outputs": [],
   "source": [
    "# Then maybe an fcc lattice, where we manually specify the basis\n",
    "Lattice(a1=np.array([0.5, 0.5, 0]),\n",
    "        a2=np.array([0.5, 0, 0.5]),\n",
    "        a3=np.array([0, 0.5, 0.5]))\n",
    "# Note that we don't need to specify the basis if it only includes one atom at (0,0,0)"
   ]
  },
  {
   "cell_type": "code",
   "execution_count": 5,
   "metadata": {},
   "outputs": [],
   "source": [
    "# Lets try some scattering. A bcc lattice with k_in=[0,0,-1.5] (in units of 2pi/a:\n",
    "Scattering(lattice_name='bcc',\n",
    "           k_in=[0,0,-1.5])"
   ]
  },
  {
   "cell_type": "code",
   "execution_count": 6,
   "metadata": {},
   "outputs": [],
   "source": [
    "# We can see, that there is a systemic absence in this figure, if we change the form factor\n",
    "Scattering(lattice_name='bcc',\n",
    "           k_in=[0,0,-1.5],\n",
    "           form_factor=[1,0.5])"
   ]
  },
  {
   "cell_type": "code",
   "execution_count": 7,
   "metadata": {},
   "outputs": [],
   "source": [
    "# Let's try a simple cubic lattice at another angle, and highlight one of them\n",
    "Scattering(lattice_name='simple cubic',\n",
    "           k_in=[0,1,-1],\n",
    "           highlight=(1,-1,2))\n",
    "# Notice the additional vectors shown. In red is the outgoing wave vector,\n",
    "# and in green is the reciprocal lattice vector. I include 2 copies of the outgoing\n",
    "# wave vector. One to indicate the outgoing line, and one to highlight the Laue condition"
   ]
  },
  {
   "cell_type": "code",
   "execution_count": 8,
   "metadata": {},
   "outputs": [],
   "source": [
    "# Let's  plot the dispersion of free particles\n",
    "Band_structure(V0=0,\n",
    "               n_k=101)"
   ]
  },
  {
   "cell_type": "code",
   "execution_count": 9,
   "metadata": {},
   "outputs": [],
   "source": [
    "# Or for a medium strength dirac potential, say V0=10^6:\n",
    "Band_structure(V0=10**6,\n",
    "               n_k=51,\n",
    "               potential='dirac')"
   ]
  },
  {
   "cell_type": "code",
   "execution_count": 10,
   "metadata": {},
   "outputs": [],
   "source": [
    "# Maybe the strong potential limit of the harmonic potential (V0=1)\n",
    "Band_structure(V0=1,\n",
    "               n_k=51)"
   ]
  },
  {
   "cell_type": "code",
   "execution_count": 11,
   "metadata": {},
   "outputs": [],
   "source": [
    "# Or what if we had doped a material with the high potential limit?\n",
    "Band_structure(V0=1,\n",
    "               n_k=51,\n",
    "               E_F=-1.0665)"
   ]
  }
 ],
 "metadata": {
  "kernelspec": {
   "display_name": "Python 3",
   "language": "python",
   "name": "python3"
  },
  "language_info": {
   "codemirror_mode": {
    "name": "ipython",
    "version": 3
   },
   "file_extension": ".py",
   "mimetype": "text/x-python",
   "name": "python",
   "nbconvert_exporter": "python",
   "pygments_lexer": "ipython3",
   "version": "3.6.5"
  }
 },
 "nbformat": 4,
 "nbformat_minor": 2
}
