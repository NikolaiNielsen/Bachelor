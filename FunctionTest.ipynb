{
 "cells": [
  {
   "cell_type": "code",
   "execution_count": 1,
   "metadata": {},
   "outputs": [],
   "source": [
    "from cmp import *\n",
    "% matplotlib notebook"
   ]
  },
  {
   "cell_type": "code",
   "execution_count": 2,
   "metadata": {
    "scrolled": false
   },
   "outputs": [],
   "source": [
    "# Inputs\n",
    "\n",
    "# Lattice vectors (3 vectors of length 3)\n",
    "a = 1\n",
    "b = 2\n",
    "a1 = np.array([1, 0, 0])\n",
    "a2 = np.array([0, 1, 0])\n",
    "a3 = np.array([0, 0, 1])\n",
    "theta = 80*np.pi/180\n",
    "\n",
    "# Array of basis vectors\n",
    "basis = np.array([[0,0,0],[0.5,0.5,0],[0.5,0,0.5],[0,0.5,0.5]])\n",
    "# Colors for each of the basis vectors\n",
    "colors = ('xkcd:cement','b','b','b')\n",
    "# Size multiplier for each of the atoms. Default is 1\n",
    "sizes = (2,1,1,1)\n",
    "\n",
    "\n",
    "# Gridline type:\n",
    "# Hard: lines along cartesian axes at integer spacings\n",
    "# Soft: Lines along cartesian axes. Takes into account nonequal lattice spacing\n",
    "# LatticeVectors: Lines along the latticevectors (only on lattice points)\n",
    "GridType = \"lattice\"\n",
    "\n",
    "# Limit type:\n",
    "# Hard: Sets a hard limit on the plotting boundary (default  x = y = z = [0,2])\n",
    "# Dynamic: Sets the limits as max(nx*a1,ny*a2,nz*a3), so we include nx unitcells in the a1 direction, etc.\n",
    "# WDynamic: Sets the limits r_min = n_min*[a1 a2 a3] and likewise for n_max\n",
    "LimType = \"wdynamic\"\n",
    "Maxs = [2,2,2]\n",
    "Mins = [0,0,0]\n",
    "\n",
    "#LatticeCreator(a1,a2,a3,basis,colors,sizes,LimType,GridType,Mins,Maxs)"
   ]
  },
  {
   "cell_type": "code",
   "execution_count": 3,
   "metadata": {},
   "outputs": [],
   "source": [
    "#LatticeCreator(Lattice=\"conventional bcc\", colors=[\"xkcd:cement\",\"b\",\"b\",\"b\"])"
   ]
  },
  {
   "cell_type": "code",
   "execution_count": 4,
   "metadata": {},
   "outputs": [
    {
     "name": "stdout",
     "output_type": "stream",
     "text": [
      "Test done. If nothing printed, all were succesfully classified\n"
     ]
    }
   ],
   "source": [
    "LatticeTester()"
   ]
  },
  {
   "cell_type": "code",
   "execution_count": 5,
   "metadata": {},
   "outputs": [
    {
     "name": "stdout",
     "output_type": "stream",
     "text": [
      "[[0.70710678 0.70710678 0.70710678]\n",
      " [0.70710678 0.70710678 0.70710678]\n",
      " [0.70710678 0.70710678 0.70710678]]\n",
      "True\n"
     ]
    }
   ],
   "source": [
    "lattice, basis = LatticeChooser(lattice_name = \"conventional fcc\")\n",
    "# lattice = np.array([[2,0,0],[0,3,0],[0,0,4]])\n",
    "a1, a2, a3 = lattice\n",
    "\n",
    "R = RotMatrix()\n",
    "rLattice = (R@lattice.T).T\n",
    "rBasis = (R@basis.T).T\n",
    "rBasis = rBasis[1:]\n",
    "rLattice = rLattice[[1,2,0]]\n",
    "mag_lattice = mag(rLattice)\n",
    "mag_basis = mag(rBasis)\n",
    "lengthEq = np.isclose(np.sqrt(2) / 2, mag_basis).all()\n",
    "normalizer = np.outer(mag_lattice, mag_basis)\n",
    "print(normalizer)\n",
    "angles = rLattice.dot(rBasis) / normalizer\n",
    "rank = np.linalg.matrix_rank(angles)\n",
    "# get angles that are sqrt(2)/2 and 0 respectively\n",
    "num_sqrt2 = np.isclose(angles, np.sqrt(2) / 2)\n",
    "num_0 = np.isclose(angles, 0)\n",
    "\n",
    "# Check whether there are 2 or 1 of these per row\n",
    "# respectively\n",
    "num_sqrt2_true = (num_sqrt2.sum(axis=1) ==\n",
    "                  np.array([2, 2, 2])).all()\n",
    "num_0_true = (num_0.sum(axis=1) ==\n",
    "              np.array([1, 1, 1])).all()\n",
    "anglesEq = rank == 3 and num_0_true and num_sqrt2_true\n",
    "print(anglesEq)"
   ]
  },
  {
   "cell_type": "code",
   "execution_count": 6,
   "metadata": {
    "scrolled": true
   },
   "outputs": [
    {
     "name": "stdout",
     "output_type": "stream",
     "text": [
      "Test done. If nothing printed, all were succesfully classified\n"
     ]
    }
   ],
   "source": [
    "LatticeTester()\n"
   ]
  },
  {
   "cell_type": "code",
   "execution_count": null,
   "metadata": {},
   "outputs": [],
   "source": []
  }
 ],
 "metadata": {
  "kernelspec": {
   "display_name": "Python 3",
   "language": "python",
   "name": "python3"
  },
  "language_info": {
   "codemirror_mode": {
    "name": "ipython",
    "version": 3
   },
   "file_extension": ".py",
   "mimetype": "text/x-python",
   "name": "python",
   "nbconvert_exporter": "python",
   "pygments_lexer": "ipython3",
   "version": "3.6.4"
  }
 },
 "nbformat": 4,
 "nbformat_minor": 2
}
