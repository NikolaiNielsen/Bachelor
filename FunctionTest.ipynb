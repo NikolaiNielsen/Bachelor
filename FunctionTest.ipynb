{
 "cells": [
  {
   "cell_type": "code",
   "execution_count": 1,
   "metadata": {},
   "outputs": [],
   "source": [
    "from cmp import *\n",
    "% matplotlib notebook\n",
    "np.set_printoptions(threshold=np.nan)"
   ]
  },
  {
   "cell_type": "code",
   "execution_count": 2,
   "metadata": {
    "scrolled": false
   },
   "outputs": [
    {
     "ename": "UnboundLocalError",
     "evalue": "local variable 'n_min' referenced before assignment",
     "output_type": "error",
     "traceback": [
      "\u001b[0;31m---------------------------------------------------------------------------\u001b[0m",
      "\u001b[0;31mUnboundLocalError\u001b[0m                         Traceback (most recent call last)",
      "\u001b[0;32m<ipython-input-2-0ba0220bea2c>\u001b[0m in \u001b[0;36m<module>\u001b[0;34m()\u001b[0m\n\u001b[1;32m     32\u001b[0m \u001b[0mLatticeType\u001b[0m \u001b[0;34m=\u001b[0m \u001b[0;34m\"simple monoclinic\"\u001b[0m\u001b[0;34m\u001b[0m\u001b[0m\n\u001b[1;32m     33\u001b[0m \u001b[0;31m#LatticeCreator(a1,a2,a3,basis,colors,sizes,LimType,GridType,Mins,Maxs)\u001b[0m\u001b[0;34m\u001b[0m\u001b[0;34m\u001b[0m\u001b[0m\n\u001b[0;32m---> 34\u001b[0;31m \u001b[0mLatticeCreator\u001b[0m\u001b[0;34m(\u001b[0m\u001b[0mLattice\u001b[0m \u001b[0;34m=\u001b[0m \u001b[0mLatticeType\u001b[0m\u001b[0;34m,\u001b[0m \u001b[0mLimType\u001b[0m \u001b[0;34m=\u001b[0m \u001b[0;34m\"hello\"\u001b[0m\u001b[0;34m,\u001b[0m \u001b[0mverbose\u001b[0m\u001b[0;34m=\u001b[0m\u001b[0;32mFalse\u001b[0m\u001b[0;34m)\u001b[0m\u001b[0;34m\u001b[0m\u001b[0m\n\u001b[0m",
      "\u001b[0;32m~/Dropbox/KU/3 Year/Bachelor/cmp.py\u001b[0m in \u001b[0;36mLatticeCreator\u001b[0;34m(a1, a2, a3, basis, colors, sizes, LimType, GridType, Mins, Maxs, Lattice, verbose)\u001b[0m\n\u001b[1;32m    105\u001b[0m         \u001b[0mGridType\u001b[0m \u001b[0;34m=\u001b[0m \u001b[0mlatticelines\u001b[0m\u001b[0;34m[\u001b[0m\u001b[0mLatticeType\u001b[0m\u001b[0;34m]\u001b[0m\u001b[0;34m\u001b[0m\u001b[0m\n\u001b[1;32m    106\u001b[0m     \u001b[0;31m# set the range of lattice vectors to be calculated\u001b[0m\u001b[0;34m\u001b[0m\u001b[0;34m\u001b[0m\u001b[0m\n\u001b[0;32m--> 107\u001b[0;31m     \u001b[0mr_min\u001b[0m\u001b[0;34m,\u001b[0m \u001b[0mr_max\u001b[0m\u001b[0;34m,\u001b[0m \u001b[0mn_min\u001b[0m\u001b[0;34m,\u001b[0m \u001b[0mn_max\u001b[0m \u001b[0;34m=\u001b[0m \u001b[0mFindLimits\u001b[0m\u001b[0;34m(\u001b[0m\u001b[0mLimType\u001b[0m\u001b[0;34m,\u001b[0m \u001b[0ma1\u001b[0m\u001b[0;34m,\u001b[0m \u001b[0ma2\u001b[0m\u001b[0;34m,\u001b[0m \u001b[0ma3\u001b[0m\u001b[0;34m,\u001b[0m \u001b[0mMins\u001b[0m\u001b[0;34m,\u001b[0m \u001b[0mMaxs\u001b[0m\u001b[0;34m)\u001b[0m\u001b[0;34m\u001b[0m\u001b[0m\n\u001b[0m\u001b[1;32m    108\u001b[0m \u001b[0;34m\u001b[0m\u001b[0m\n\u001b[1;32m    109\u001b[0m     (AtomicPositions, LatticeCoefficients, AtomicColors, AtomicSizes,\n",
      "\u001b[0;32m~/Dropbox/KU/3 Year/Bachelor/cmp.py\u001b[0m in \u001b[0;36mFindLimits\u001b[0;34m(LimType, a1, a2, a3, Min, Max)\u001b[0m\n\u001b[1;32m    724\u001b[0m     \u001b[0;31m# Also, let's make sure n_min / max are arrays of integers. Don't worry,\u001b[0m\u001b[0;34m\u001b[0m\u001b[0;34m\u001b[0m\u001b[0m\n\u001b[1;32m    725\u001b[0m     \u001b[0;31m# they've already been rounded\u001b[0m\u001b[0;34m\u001b[0m\u001b[0;34m\u001b[0m\u001b[0m\n\u001b[0;32m--> 726\u001b[0;31m     returns = (r_min, r_max, n_min.astype('int') - np.max(Max),\n\u001b[0m\u001b[1;32m    727\u001b[0m                n_max.astype('int') + np.max(Max))\n\u001b[1;32m    728\u001b[0m     \u001b[0;32mreturn\u001b[0m \u001b[0mreturns\u001b[0m\u001b[0;34m\u001b[0m\u001b[0m\n",
      "\u001b[0;31mUnboundLocalError\u001b[0m: local variable 'n_min' referenced before assignment"
     ]
    }
   ],
   "source": [
    "# Inputs\n",
    "eq = np.isclose\n",
    "# Lattice vectors (3 vectors of length 3)\n",
    "a = 1\n",
    "b = 2\n",
    "a1 = np.array([1, 0, 0])\n",
    "a2 = np.array([0, 1, 0])\n",
    "a3 = np.array([0, 0, 1])\n",
    "theta = 80*np.pi/180\n",
    "\n",
    "# Array of basis vectors\n",
    "basis = np.array([[0,0,0],[0.5,0.5,0],[0.5,0,0.5],[0,0.5,0.5]])\n",
    "# Colors for each of the basis vectors\n",
    "colors = ('xkcd:cement','b','b','b')\n",
    "# Size multiplier for each of the atoms. Default is 1\n",
    "sizes = (2,1,1,1)\n",
    "verbose = True\n",
    "\n",
    "\n",
    "# Gridline type:\n",
    "# Soft: Lines along cartesian axes. Takes into account nonequal lattice spacing\n",
    "# LatticeVectors: Lines along the latticevectors (only on lattice points)\n",
    "GridType = \"lattice\"\n",
    "\n",
    "# Limit type:\n",
    "# individual: Sets the limits as max(nx*a1,ny*a2,nz*a3), so we include nx unitcells in the a1 direction, etc.\n",
    "# sum: Sets the limits r_min = n_min*[a1 a2 a3] and likewise for n_max\n",
    "LimType = \"dynamic\"\n",
    "Maxs = [2,2,2]\n",
    "Mins = [0,0,0]\n",
    "\n",
    "LatticeType = \"simple monoclinic\"\n",
    "#LatticeCreator(a1,a2,a3,basis,colors,sizes,LimType,GridType,Mins,Maxs)\n",
    "LatticeCreator(Lattice = LatticeType, LimType = \"hello\", verbose=False)\n"
   ]
  },
  {
   "cell_type": "code",
   "execution_count": null,
   "metadata": {},
   "outputs": [],
   "source": [
    "def FindLimits(LimType, a1, a2, a3, Min=[0, 0, 0], Max=[2, 2, 2]):\n",
    "    \"\"\"\n",
    "    Calculates the limits on the coordinates (the plot box), and the limits on\n",
    "    the basis vector ranges.\n",
    "    \"\"\"\n",
    "    lattice = np.array([a1, a2, a3])\n",
    "    n_min, n_max = np.array(Min), np.array(Max)\n",
    "    # For dynamic limits we pass Min and Max as limits of basis vector range\n",
    "    # and calculate coordinate limit based on basis vector range\n",
    "    if LimType.lower() in \"individual\":\n",
    "        n_min, n_max = np.array(Min), np.array(Max)\n",
    "        lattice = np.array((a1, a2, a3))\n",
    "        # Take the max value for each of the cardinal directions, for the\n",
    "        # three scaled lattice vectors (so x_max is max x value of\n",
    "        # Max[0] * a1, Max[1] * a2 and Max[2] * a3).\n",
    "        # this can be done by multiplying the transposed lattice matrix by the\n",
    "        # n_max vector, then taking max value\n",
    "        max_vects = lattice.T * n_max\n",
    "        r_max = np.amax(max_vects, 0)\n",
    "        # Similar for minimums:\n",
    "        min_vects = lattice.T * n_min\n",
    "        r_min = np.amin(min_vects, 0)\n",
    "    # Different type of coordinate limits. Take r_max as sum(lattice * max)\n",
    "    # Works well for orthogonal or near-orthogonal lattice vectors\n",
    "    elif LimType.lower() in \"sum\":\n",
    "        lattice = np.array([a1, a2, a3])\n",
    "        r_max = np.sum(lattice.T * n_max, 0)\n",
    "        r_min = np.sum(lattice.T * n_min, 0)\n",
    "    else:\n",
    "        # We sample all 8 points arising from combinations of min and max:\n",
    "        # First we get the permutations:\n",
    "        perms = list(itertools.product([False, True], repeat=3))\n",
    "        # We create a boolean array of when to multiply by the max and when not to\n",
    "        maxMult = np.array(perms)\n",
    "        minMult = np.invert(maxMult)\n",
    "        # We stack the min and max arrays to have 8 identical rows\n",
    "        maxstack = np.array(Max * 8).reshape([8, 3])\n",
    "        minstack = np.array(Min * 8).reshape([8, 3])\n",
    "        # Each element of the multiplier matrix is made of the appropriate element from max or min. If maxMult[n,m] == False then mult[n,m] = minstack[n,m] and vice versa. This is accomplished by setting the elements of maxstack and minstack equal to 0, when they are not to be multiplied. Then we add the two arrays together.\n",
    "        maxstack[minMult] = 0\n",
    "        minstack[maxMult] = 0\n",
    "        mult = minstack+maxstack\n",
    "        # The 8 points are thus the matrix product of mult and lattice\n",
    "        limits = mult @ lattice\n",
    "        # We take the minimal and maximal values of each column, as the minimum and maximum value for our cartesian axes\n",
    "        r_min = np.amin(limits,0)\n",
    "        r_max = np.amax(limits,0)\n",
    "    # And lastly we return the relevant arrays, with n_min / max -+ some value\n",
    "    # to allow for \"spillage\". The value is the maximal value of the Max array.\n",
    "    # Also, let's make sure n_min / max are arrays of integers. Don't worry,\n",
    "    # they've already been rounded\n",
    "    returns = (r_min, r_max, n_min.astype('int') - np.max(Max),\n",
    "               n_max.astype('int') + np.max(Max))\n",
    "    return returns"
   ]
  },
  {
   "cell_type": "code",
   "execution_count": null,
   "metadata": {},
   "outputs": [],
   "source": [
    "(a1,a2,a3),basis= LatticeChooser(\"simple monoclinic\")\n",
    "print(FindLimits(\"individual\",a1,a2,a3))\n",
    "print(FindLimits(\"sum\",a1,a2,a3))\n",
    "print(FindLimits(\"Hello\",a1,a2,a3))"
   ]
  },
  {
   "cell_type": "code",
   "execution_count": null,
   "metadata": {},
   "outputs": [],
   "source": []
  }
 ],
 "metadata": {
  "kernelspec": {
   "display_name": "Python 3",
   "language": "python",
   "name": "python3"
  },
  "language_info": {
   "codemirror_mode": {
    "name": "ipython",
    "version": 3
   },
   "file_extension": ".py",
   "mimetype": "text/x-python",
   "name": "python",
   "nbconvert_exporter": "python",
   "pygments_lexer": "ipython3",
   "version": "3.6.4"
  }
 },
 "nbformat": 4,
 "nbformat_minor": 2
}
