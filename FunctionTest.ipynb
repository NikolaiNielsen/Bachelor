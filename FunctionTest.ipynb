{
 "cells": [
  {
   "cell_type": "code",
   "execution_count": null,
   "metadata": {},
   "outputs": [],
   "source": [
    "from cmp import *\n",
    "% matplotlib notebook\n",
    "np.set_printoptions(threshold=np.nan)"
   ]
  },
  {
   "cell_type": "code",
   "execution_count": null,
   "metadata": {
    "scrolled": false
   },
   "outputs": [],
   "source": [
    "# Inputs\n",
    "eq = np.isclose\n",
    "# Lattice vectors (3 vectors of length 3)\n",
    "a = 1\n",
    "b = 2\n",
    "a1 = np.array([1, 0, 0])\n",
    "a2 = np.array([0, 1, 0])\n",
    "a3 = np.array([0, 0, 1])\n",
    "theta = 80*np.pi/180\n",
    "\n",
    "# Array of basis vectors\n",
    "basis = np.array([[0,0,0],[0.5,0.5,0],[0.5,0,0.5],[0,0.5,0.5]])\n",
    "# Colors for each of the basis vectors\n",
    "colors = ('xkcd:cement','b','b','b')\n",
    "# Size multiplier for each of the atoms. Default is 1\n",
    "sizes = (2,1,1,1)\n",
    "verbose = True\n",
    "\n",
    "\n",
    "# Gridline type:\n",
    "# Soft: Lines along cartesian axes. Takes into account nonequal lattice spacing\n",
    "# LatticeVectors: Lines along the latticevectors (only on lattice points)\n",
    "GridType = \"lattice\"\n",
    "\n",
    "# Limit type:\n",
    "# individual: Sets the limits as max(nx*a1,ny*a2,nz*a3), so we include nx unitcells in the a1 direction, etc.\n",
    "# sum: Sets the limits r_min = n_min*[a1 a2 a3] and likewise for n_max\n",
    "LimType = \"dynamic\"\n",
    "Maxs = [2,2,2]\n",
    "Mins = [0,0,0]\n",
    "\n",
    "LatticeType = \"base centred cubic\"\n",
    "#LatticeCreator(a1,a2,a3,basis,colors,sizes,LimType,GridType,Mins,Maxs)\n",
    "LatticeCreator(Lattice = LatticeType, verbose=False)"
   ]
  },
  {
   "cell_type": "code",
   "execution_count": null,
   "metadata": {},
   "outputs": [],
   "source": [
    "def LatticePlotter(a1, a2, a3, AtomicPositions, AtomicColors, AtomicSizes,\n",
    "                   LatticePosition, LatticeCoefficients, n_max, GridType, r_min, r_max, verbose=False):\n",
    "    \"\"\"\n",
    "    Takes the input lattice, adds gridlines and plots everything\n",
    "    \"\"\"\n",
    "    # Create the figure\n",
    "    fig = plt.figure()\n",
    "    ax = fig.gca(projection=\"3d\")\n",
    "\n",
    "    # Plot atoms. For now a single size and color\n",
    "    ax.scatter(AtomicPositions[:, 0], AtomicPositions[:, 1],\n",
    "               AtomicPositions[:, 2], c=AtomicColors, s=AtomicSizes)\n",
    "\n",
    "    # Get the relevant gridlines:\n",
    "    g_col = 'k'\n",
    "    g_w = 0.5\n",
    "    pruned_lines = CreateLines(AtomicPositions[LatticePosition], a1, a2, a3, n_max, LatticeCoefficients[LatticePosition])\n",
    "    for line in pruned_lines:\n",
    "        ax.plot(line[0], line[1], line[2], color=g_col, linewidth=g_w)\n",
    "    # plot lattice vectors\n",
    "    ax.quiver(0, 0, 0, a1[0], a1[1], a1[2])\n",
    "    ax.quiver(0, 0, 0, a2[0], a2[1], a2[2])\n",
    "    ax.quiver(0, 0, 0, a3[0], a3[1], a3[2])\n",
    "    ax.text(a1[0] / 2, a1[1] / 2, a1[2] / 2, '$a_1$')\n",
    "    ax.text(a2[0] / 2, a2[1] / 2, a2[2] / 2, '$a_2$')\n",
    "    ax.text(a3[0] / 2, a3[1] / 2, a3[2] / 2, '$a_3$')\n",
    "\n",
    "    # Set limits, orthographic projection (so we get the beautiful hexagons),\n",
    "    # no automatic gridlines, and no axes\n",
    "    ax.set_aspect('equal')\n",
    "    ax.set_proj_type('ortho')\n",
    "    ax.set_xlim3d([r_min[0], r_max[0]])\n",
    "    ax.set_ylim3d([r_min[1], r_max[1]])\n",
    "    ax.set_zlim3d([r_min[2], r_max[2]])\n",
    "    ax.grid(False)\n",
    "    plt.axis('equal')\n",
    "    plt.axis('off')\n",
    "\n",
    "    # make the panes transparent (the plot box)\n",
    "    ax.xaxis.set_pane_color((1.0, 1.0, 1.0, 0.0))\n",
    "    ax.yaxis.set_pane_color((1.0, 1.0, 1.0, 0.0))\n",
    "    ax.zaxis.set_pane_color((1.0, 1.0, 1.0, 0.0))\n",
    "    plt.show()\n"
   ]
  },
  {
   "cell_type": "code",
   "execution_count": null,
   "metadata": {},
   "outputs": [],
   "source": [
    "(a1,a2,a3), basis = LatticeChooser(\"bcc\")\n",
    "r_min,r_max,n_min,n_max = FindLimits(\"sum\",a1,a2,a3)\n",
    "colors = [\"xkcd:cement\"]\n",
    "sizes = [2]\n",
    "N_basis = 1\n",
    "(AtomicPositions, LatticeCoefficients, AtomicColors, AtomicSizes,\n",
    "     LatticePosition) = LatticeGenerator(a1, a2, a3, basis, colors, sizes,\n",
    "                                         LimType, n_min, n_max, r_min, r_max,\n",
    "                                         N_basis)\n",
    "\n",
    "pruned_lines = GridLines(a1,a2,a3,AtomicPositions,colors,sizes,LatticePosition,\"soft\",r_min,r_max)"
   ]
  },
  {
   "cell_type": "code",
   "execution_count": null,
   "metadata": {},
   "outputs": [],
   "source": [
    "def CreateLines(points, vectors):\n",
    "    \"\"\"\n",
    "    Creates lines along vectors and limits these to the given plot box\n",
    "    \"\"\"\n",
    "    \n",
    "    # Creating the gridlines along latticevectors\n",
    "    # for each lattice point, we calculate the cosine of the angle between each of the lattice vectors and each of the separation vectors to other lattice points\n",
    "    # This allows us to determine which atoms lie along a lattice vector from a given point\n",
    "    # Then we can just pick the atom furthest away (in the \"positive\" direction), and use it as the end point for the grid line.\n",
    "    lines = []\n",
    "\n",
    "    # Create all gridlines needed and append them to the lines-list\n",
    "    numPoints = np.shape(points)[0]\n",
    "    \n",
    "    for rowID in range(numPoints):\n",
    "        CurrentPoint = points[rowID, ]\n",
    "        for vec in vectors:\n",
    "            # First we want to delete the origin from the separation\n",
    "            sep = points - CurrentPoint\n",
    "            # We make a boolean array of values equal to 0, sum them up and if a row equals 3, then it is the null vector\n",
    "            noughts = np.sum((sep == np.array([0,0,0])),1) == 3\n",
    "            # Then we select all the separation vectors that are not the nullvector\n",
    "            sep = sep[noughts != True]\n",
    "            nonpoints = points[noughts != True]\n",
    "            mag_sep = mag(sep)\n",
    "            \n",
    "            # We calculate the cosine of the angle between the current lattice vector and the separation vectors\n",
    "            cosine = sep.dot(vec)/(mag_sep*mag(vec))\n",
    "            # If it is close to 1, then the vectors are parallel\n",
    "            para = eq(1,cosine)\n",
    "            # We get the parallel points and magnitude of parallel separation vectors\n",
    "            parapoints = nonpoints[para,]\n",
    "            magparasep = mag_sep[para]\n",
    "            if magparasep.shape[0] == 0:\n",
    "                # if there are no points further out, that have a parallel separation vector, we just pass, as we are at the edge of the lattice\n",
    "                pass\n",
    "            else:\n",
    "                # We pick the parallel point, that has the largest \n",
    "                endpointbool = magparasep == np.amax(magparasep)\n",
    "                endpoint = parapoints[endpointbool]\n",
    "                endpoint = np.squeeze(endpoint)\n",
    "                rawline = np.vstack((CurrentPoint,endpoint))\n",
    "                lines.append([rawline[:,0], rawline[:,1], rawline[:,2]])\n",
    "            \n",
    "            \n",
    "    return lines"
   ]
  },
  {
   "cell_type": "code",
   "execution_count": null,
   "metadata": {
    "scrolled": false
   },
   "outputs": [],
   "source": [
    "lines = CreateLines(AtomicPositions,np.array([a1,a2,a3]))\n",
    "fig = plt.figure()\n",
    "ax = fig.gca(projection=\"3d\")\n",
    "for line in lines:\n",
    "    ax.plot(line[0],line[1],line[2],color='k',linewidth=0.5)"
   ]
  },
  {
   "cell_type": "code",
   "execution_count": null,
   "metadata": {},
   "outputs": [],
   "source": []
  },
  {
   "cell_type": "code",
   "execution_count": null,
   "metadata": {
    "scrolled": true
   },
   "outputs": [],
   "source": [
    "# Creating the gridlines along latticevectors\n",
    "# for each lattice point, we calculate the cosine of the angle between each of the lattice vectors and each of the separation vectors to other lattice points\n",
    "# This allows us to determine which atoms lie along a lattice vector from a given point\n",
    "# Then we can just pick the atom furthest away (in the \"positive\" direction), and use it as the end point for the grid line.\n",
    "\n",
    "l = np.array([[1,0,0],[0,1,0],[0,0,1]])\n",
    "p = np.zeros((4**3,3))\n",
    "counter = 0\n",
    "for i in range(4):\n",
    "    for j in range(4):\n",
    "        for k in range(4):\n",
    "            p[counter,] = np.array((i,j,k))\n",
    "            counter += 1\n",
    "\n",
    "sep1 = p-l[0,]\n",
    "sep2 = p-l[1,]\n",
    "sep3 = p-l[2,]\n",
    "a1,a2,a3 = l\n",
    "mag_sep1 = mag(sep1)\n",
    "dot1= sep1.dot(a1)\n",
    "para = eq(1,(dot1/(mag_sep1*mag(a1))))\n",
    "paraPoints = p[para,]\n",
    "paraSep = sep1[para,]\n",
    "magparaSep = mag(paraSep)\n",
    "maxsep = np.amax(magparaSep)\n",
    "maxsepBool = magparaSep == maxsep\n",
    "endpoint = paraPoints[maxsepBool,]\n"
   ]
  },
  {
   "cell_type": "code",
   "execution_count": null,
   "metadata": {},
   "outputs": [],
   "source": [
    "LatticePlotter(a1, a2, a3, AtomicPositions, AtomicColors, AtomicSizes,\n",
    "                   LatticePosition, LatticeCoefficients, n_max, \"lattice\", r_min, r_max)"
   ]
  },
  {
   "cell_type": "code",
   "execution_count": null,
   "metadata": {},
   "outputs": [],
   "source": [
    "point=a1+a2+a3\n",
    "coefficient=np.array([1,1,1])\n",
    "endpoint = np.array([a1,a2,a3]).T @ (n_max-coefficient)\n",
    "print(endpoint)\n",
    "print(point)"
   ]
  },
  {
   "cell_type": "code",
   "execution_count": null,
   "metadata": {},
   "outputs": [],
   "source": []
  }
 ],
 "metadata": {
  "kernelspec": {
   "display_name": "Python 3",
   "language": "python",
   "name": "python3"
  },
  "language_info": {
   "codemirror_mode": {
    "name": "ipython",
    "version": 3
   },
   "file_extension": ".py",
   "mimetype": "text/x-python",
   "name": "python",
   "nbconvert_exporter": "python",
   "pygments_lexer": "ipython3",
   "version": "3.6.4"
  }
 },
 "nbformat": 4,
 "nbformat_minor": 2
}
