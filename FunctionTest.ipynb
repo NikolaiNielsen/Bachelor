{
 "cells": [
  {
   "cell_type": "code",
   "execution_count": 1,
   "metadata": {},
   "outputs": [],
   "source": [
    "from cmp import *\n",
    "% matplotlib notebook"
   ]
  },
  {
   "cell_type": "code",
   "execution_count": 2,
   "metadata": {
    "scrolled": true
   },
   "outputs": [
    {
     "data": {
      "image/png": "[encoded data removed]",
      "text/plain": [
       "<matplotlib.figure.Figure at 0x7f7e946a8240>"
      ]
     },
     "metadata": {},
     "output_type": "display_data"
    }
   ],
   "source": [
    "# Inputs\n",
    "\n",
    "# Lattice vectors (3 vectors of length 3)\n",
    "a = 1\n",
    "b = 2\n",
    "a1 = np.array([1, 0, 0])\n",
    "a2 = np.array([0, 1, 0])\n",
    "a3 = np.array([0, 0, 1])\n",
    "theta = 80*np.pi/180\n",
    "\n",
    "# Array of basis vectors\n",
    "basis = np.array([[0,0,0],[0.5,0.5,0],[0.5,0,0.5],[0,0.5,0.5]])\n",
    "# Colors for each of the basis vectors\n",
    "colors = ('xkcd:cement','b','b','b')\n",
    "# Size multiplier for each of the atoms. Default is 1\n",
    "sizes = (2,1,1,1)\n",
    "\n",
    "\n",
    "# Gridline type:\n",
    "# Hard: lines along cartesian axes at integer spacings\n",
    "# Soft: Lines along cartesian axes. Takes into account nonequal lattice spacing\n",
    "# LatticeVectors: Lines along the latticevectors (only on lattice points)\n",
    "GridType = \"lattice\"\n",
    "\n",
    "# Limit type:\n",
    "# Hard: Sets a hard limit on the plotting boundary (default  x = y = z = [0,2])\n",
    "# Dynamic: Sets the limits as max(nx*a1,ny*a2,nz*a3), so we include nx unitcells in the a1 direction, etc.\n",
    "# WDynamic: Sets the limits r_min = n_min*[a1 a2 a3] and likewise for n_max\n",
    "LimType = \"wdynamic\"\n",
    "Maxs = [2,2,2]\n",
    "Mins = [0,0,0]\n",
    "\n",
    "LatticeCreator(a1,a2,a3,basis,colors,sizes,LimType,GridType,Mins,Maxs)"
   ]
  },
  {
   "cell_type": "code",
   "execution_count": 14,
   "metadata": {},
   "outputs": [],
   "source": [
    "def LatticeChooser(lattice_name=\"simple cubic\"):\n",
    "    # Let's just sanitize the input\n",
    "    lattice_name = lattice_name.lower()\n",
    "    L = {}\n",
    "    B = {}\n",
    "    a, b, c, theta = 1, 1.5, 2, 80 * np.pi / 180\n",
    "    # Create the relevant lattices (transposed - using row vectors)\n",
    "    # Simple cubic\n",
    "    lcubic = np.array([[a, 0, 0], [0, a, 0], [0, 0, a]])\n",
    "    L[\"simple cubic\"] = lcubic\n",
    "    # BCC\n",
    "    lbcc = np.array([[a, 0, 0], [0, a, 0], [a / 2, a / 2, a / 2]])\n",
    "    L[\"bcc\"] = lbcc\n",
    "    # FCC\n",
    "    lfcc = np.array([[a / 2, a / 2, 0], [a / 2, 0, a / 2], [0, a / 2, a / 2]])\n",
    "    L[\"fcc\"] = lfcc\n",
    "    # Base Centered Cubic\n",
    "    lcbase = np.array([[a, 0, 0], [a / 2, a / 2, 0], [0, 0, a]])\n",
    "    L[\"base centred cubic\"] = lcbase\n",
    "    # Tetragonal\n",
    "    ltetra = np.array([[a, 0, 0], [0, a, 0], [0, 0, b]])\n",
    "    L[\"tetragonal\"] = ltetra\n",
    "    # Tetragonal Body Centred\n",
    "    ltbc = np.array([[a, 0, 0], [0, a, 0], [a / 2, a / 2, b / 2]])\n",
    "    L[\"tetragonal body centred\"] = ltbc\n",
    "    # Tetragonal Face Centred\n",
    "    ltfc = np.array([[a / 2, a / 2, 0], [a / 2, 0, b / 2], [0, a / 2, b / 2]])\n",
    "    L[\"tetragonal face centred\"] = ltfc\n",
    "    # tetragonal base centred\n",
    "    ltbase = np.array([[a / 2, a / 2, 0], [0, a, 0], [0, 0, b]])\n",
    "    L[\"tetragonal base centred\"] = ltbase\n",
    "    # Orthorhombic\n",
    "    lortho = np.array([[a, 0, 0], [0, b, 0], [0, 0, c]])\n",
    "    L[\"orthorhombic\"] = lortho\n",
    "    # Orthorhombic body centred\n",
    "    lobc = np.array([[a, 0, 0], [0, b, 0], [a / 2, b / 2, c / 2]])\n",
    "    L[\"orthorhombic body centred\"] = lobc\n",
    "    # Orthorhombic Face centred\n",
    "    lofc = np.array([[a / 2, b / 2, 0], [a / 2, 0, c / 2], [0, b / 2, c / 2]])\n",
    "    L[\"orthorhombic face centred\"] = lofc\n",
    "    # Orthorhombic base centred\n",
    "    lobase = np.array([[a, 0, 0], [a / 2, b / 2, 0], [0, 0, c]])\n",
    "    L[\"orthorhombic base centred\"] = lobase\n",
    "    # simple monoclic\n",
    "    lsmono = np.array([[a, 0, 0], [0, b, 0],\n",
    "                       [c * np.cos(theta), 0, c * np.sin(theta)]])\n",
    "    L[\"simple monoclinic\"] = lsmono\n",
    "    # base centred monoclinic\n",
    "    lbcmono = np.array([[a, 0, 0], [a / 2, b / 2, 0],\n",
    "                        [c * np.cos(theta), 0, c * np.sin(theta)]])\n",
    "    L[\"base centred monoclinic 3\"] = lbcmono\n",
    "    # Base centred monoclinic (2)\n",
    "    lbcmono2 = np.array([[a, 0, 0], [a / 2, np.sqrt(3) * a / 2, 0],\n",
    "                         [c * np.cos(theta), 0, c * np.sin(theta)]])\n",
    "    L[\"base centred monoclinic 2\"] = lbcmono2\n",
    "    # Base centred monoclinic (3)\n",
    "    lbcmono3 = np.array([[a, 0, 0], [a / 2, np.sqrt(3) * a / 2, 0],\n",
    "                         [a * np.cos(theta), 0, a * np.sin(theta)]])\n",
    "    L[\"base centred monoclinic 1\"] = lbcmono3\n",
    "    # Hexagonal 1\n",
    "    lhexa1 = np.array([[a, 0, 0], [a / 2, np.sqrt(3) * a / 2, 0], [0, 0, a]])\n",
    "    L[\"hexagonal 1\"] = lhexa1\n",
    "    # Hexagonal 2\n",
    "    lhexa2 = np.array([[a, 0, 0], [a / 2, np.sqrt(3) * a / 2, 0], [0, 0, b]])\n",
    "    L[\"hexagonal 2\"] = lhexa2\n",
    "    # Triclinc stuff\n",
    "    gamma = 70 * np.pi / 180\n",
    "    beta = 60 * np.pi / 180\n",
    "    cx = c * np.cos(beta)\n",
    "    cy = c * (np.cos(theta) - np.cos(beta) * np.cos(gamma)) / np.sin(gamma)\n",
    "    cz = np.sqrt(c**2 - cx**2 - cy**2)\n",
    "    ltri = np.array([[a, 0, 0], [b * np.cos(gamma), b * np.sin(gamma), 0],\n",
    "                     [cx, cy, cz]])\n",
    "    L[\"triclinic\"] = ltri\n",
    "    # Rhombohedral\n",
    "    lrhombo = np.array([[a, b, b], [b, a, b], [b, b, a]])\n",
    "    L[\"rhombohedral\"] = lrhombo\n",
    "\n",
    "    # conventional fcc\n",
    "    L[\"conventional fcc\"] = lcubic\n",
    "    B[\"conventional fcc\"] = a * np.array([[0.5, 0.5, 0],\n",
    "                                          [0.5, 0, 0.5],\n",
    "                                          [0, 0.5, 0.5]])\n",
    "\n",
    "    L[\"conventional bcc\"] = lcubic\n",
    "    B[\"conventional bcc\"] = a * np.array([0.5, 0.5, 0.5])\n",
    "\n",
    "    try:\n",
    "        lattice = L[lattice_name]\n",
    "    except KeyError:\n",
    "        print(\"You did da dumdum, and I now give you simple cubic\")\n",
    "        lattice = L[\"simple cubic\"]\n",
    "\n",
    "    basisOrigin = np.array([0, 0, 0])\n",
    "\n",
    "    try:\n",
    "        basis = B[lattice_name]\n",
    "    except KeyError:\n",
    "        basis = np.array([])\n",
    "\n",
    "    if basis.shape[0] > 0:\n",
    "        basis = np.vstack((basisOrigin, basis))\n",
    "    elif basis.shape[0] == 0:\n",
    "        basis = np.hstack((basisOrigin, basis))\n",
    "    else:\n",
    "        print(\"something went horribly wrong\")\n",
    "\n",
    "    return lattice, basis\n"
   ]
  },
  {
   "cell_type": "code",
   "execution_count": 15,
   "metadata": {},
   "outputs": [
    {
     "data": {
      "text/plain": [
       "(array([[1, 0, 0],\n",
       "        [0, 1, 0],\n",
       "        [0, 0, 1]]), array([[0. , 0. , 0. ],\n",
       "        [0.5, 0.5, 0. ],\n",
       "        [0.5, 0. , 0.5],\n",
       "        [0. , 0.5, 0.5]]))"
      ]
     },
     "execution_count": 15,
     "metadata": {},
     "output_type": "execute_result"
    }
   ],
   "source": [
    "LatticeChooser(\"conventional fcc\")"
   ]
  },
  {
   "cell_type": "code",
   "execution_count": null,
   "metadata": {},
   "outputs": [],
   "source": []
  },
  {
   "cell_type": "code",
   "execution_count": null,
   "metadata": {},
   "outputs": [],
   "source": []
  }
 ],
 "metadata": {
  "kernelspec": {
   "display_name": "Python 3",
   "language": "python",
   "name": "python3"
  },
  "language_info": {
   "codemirror_mode": {
    "name": "ipython",
    "version": 3
   },
   "file_extension": ".py",
   "mimetype": "text/x-python",
   "name": "python",
   "nbconvert_exporter": "python",
   "pygments_lexer": "ipython3",
   "version": "3.6.4"
  }
 },
 "nbformat": 4,
 "nbformat_minor": 2
}
