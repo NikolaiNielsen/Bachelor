{
 "cells": [
  {
   "cell_type": "markdown",
   "metadata": {},
   "source": [
    "# Stuff to do\n",
    "* in final app, give them just the allowed options (dropdown menu, for example)"
   ]
  },
  {
   "cell_type": "code",
   "execution_count": 1,
   "metadata": {},
   "outputs": [],
   "source": [
    "from cmp import *\n",
    "import pdir\n",
    "%matplotlib notebook\n",
    "#np.seterr(invalid='raise')\n",
    "np.set_printoptions(threshold=np.nan)"
   ]
  },
  {
   "cell_type": "code",
   "execution_count": 2,
   "metadata": {
    "scrolled": false
   },
   "outputs": [],
   "source": [
    "# Inputs\n",
    "eq = np.isclose\n",
    "# Lattice vectors (3 vectors of length 3)\n",
    "a = 1\n",
    "b = 2\n",
    "a1 = np.array([1, 0, 0])\n",
    "a2 = np.array([0, 1, 0])\n",
    "a3 = np.array([0, 0, 1])\n",
    "theta = 80*np.pi/180\n",
    "\n",
    "# Array of basis vectors\n",
    "basis = np.array([[0,0,0],[0.5,0.5,0],[0.5,0,0.5],[0,0.5,0.5]])\n",
    "# Colors for each of the basis vectors\n",
    "blargh = ('r', 'r','b','b')\n",
    "# Size multiplier for each of the atoms. Default is 1\n",
    "sizes = (2,2,1,1)\n",
    "verbose = True\n",
    "\n",
    "\n",
    "# Gridline type:\n",
    "# Soft: Lines along cartesian axes. Takes into account nonequal lattice spacing\n",
    "# LatticeVectors: Lines along the latticevectors (only on lattice points)\n",
    "GridType = \"lattice\"\n",
    "\n",
    "# Limit type:\n",
    "# individual: Sets the limits as max(nx*a1,ny*a2,nz*a3), so we include nx unitcells in the a1 direction, etc.\n",
    "# sum: Sets the limits r_min = n_min*[a1 a2 a3] and likewise for n_max\n",
    "LimType = \"dynamic\"\n",
    "Maxs = [2,2,2]\n",
    "Mins = [0,0,0]\n",
    "\n",
    "LatticeType = \"conventional fcc\"\n",
    "\n",
    "#Lattice(lattice_name = LatticeType, colors = blargh, sizes = sizes, max_ = Maxs, verbose=True)\n",
    "#Reciprocal(lattice_name=LatticeType, indices=(1,1,0))"
   ]
  },
  {
   "cell_type": "code",
   "execution_count": 4,
   "metadata": {},
   "outputs": [
    {
     "name": "stderr",
     "output_type": "stream",
     "text": [
      "/home/niko/anaconda3/lib/python3.6/site-packages/ipykernel_launcher.py:42: RuntimeWarning: invalid value encountered in sqrt\n"
     ]
    }
   ],
   "source": [
    "k0 = np.linspace(0,np.pi, 100)\n",
    "x0 = np.cos(k0)\n",
    "V0 = 1\n",
    "\n",
    "def fx(x, k, V0):\n",
    "    X = np.sqrt(2)*x\n",
    "    sin0 = np.sin(X)\n",
    "    cos0 = np.cos(X)\n",
    "    f = cos0 - V0*sin0/(X) - np.cos(k)\n",
    "    return f\n",
    "\n",
    "def fx2(x, k, V0):\n",
    "    return np.cos(np.sqrt(2)*x) - V0*np.sin(np.sqrt(2)*x)/(np.sqrt(2)*x) - np.cos(k)\n",
    "\n",
    "def fxprime(x, k, V0):\n",
    "    scale = np.sqrt(2)\n",
    "    X = scale * x\n",
    "    sin0 = np.sin(X)\n",
    "    cos0 = np.cos(X)\n",
    "    fprime = -scale * sin0 + V0 * scale * sin0 / (2 * x**2) - V0 * cos0/x\n",
    "    return fprime\n",
    "\n",
    "def fxprime2(x, k, V0):\n",
    "    return -np.sqrt(2) * np.sin(np.sqrt(2)*x) + V0 * np.sqrt(2) * np.sin(np.sqrt(2) * x)/(2 * x**2) - V0 * np.cos(np.sqrt(2)*x) / x\n",
    "\n",
    "def newtn(x, k, V0):\n",
    "    scale = np.sqrt(2)\n",
    "    X = scale * x\n",
    "    sin0 = np.sin(X)\n",
    "    cos0 = np.cos(X)\n",
    "    next_ = (V0 * scale* sin0 / 2 + x * (np.cos(k) - cos0)) * x / ((x**2 - V0/2)*scale*sin0 + V0*cos0*x)\n",
    "    return next_\n",
    "\n",
    "def newtn_calc(x, k, V0, iterations = 10):\n",
    "    for i in range(iterations):\n",
    "        x -= newtn(x, k, V0)\n",
    "    return x\n",
    "\n",
    "E = newtn_calc(x0, k0, 1)\n",
    "\n",
    "E0 = np.linspace(-3*np.pi/8, np.pi, 100)\n",
    "#E00 = np.sqrt(E0)\n",
    "#k = np.arccos(np.cos(np.sqrt(2)*E00) - 1*np.sin(np.sqrt(2)*E00)/(np.sqrt(2)*E00))"
   ]
  },
  {
   "cell_type": "code",
   "execution_count": null,
   "metadata": {},
   "outputs": [],
   "source": []
  }
 ],
 "metadata": {
  "kernelspec": {
   "display_name": "Python 3",
   "language": "python",
   "name": "python3"
  },
  "language_info": {
   "codemirror_mode": {
    "name": "ipython",
    "version": 3
   },
   "file_extension": ".py",
   "mimetype": "text/x-python",
   "name": "python",
   "nbconvert_exporter": "python",
   "pygments_lexer": "ipython3",
   "version": "3.6.4"
  }
 },
 "nbformat": 4,
 "nbformat_minor": 2
}
