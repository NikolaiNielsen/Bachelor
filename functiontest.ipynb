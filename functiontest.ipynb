{
 "cells": [
  {
   "cell_type": "markdown",
   "metadata": {},
   "source": [
    "# Stuff to do\n",
    "* in final app, give them just the allowed options (dropdown menu, for example)\n",
    "* Default color options\n",
    "* Fix BCC being a dick in the z-direction\n",
    "* Detect cube from orthogonal set of vectors with coefficients -2, -1, 1, 2\n"
   ]
  },
  {
   "cell_type": "code",
   "execution_count": 5,
   "metadata": {},
   "outputs": [],
   "source": [
    "from cmp import *\n",
    "import pdir\n",
    "%matplotlib qt\n",
    "#np.seterr(invalid='ignore')\n",
    "np.set_printoptions(threshold=np.nan, precision=3)"
   ]
  },
  {
   "cell_type": "code",
   "execution_count": null,
   "metadata": {},
   "outputs": [],
   "source": [
    "def spherical(v, deg=True):\n",
    "    x, y, z = v\n",
    "    r = np.sqrt(v.dot(v))\n",
    "    theta = np.arctan2(np.sqrt(x**2+y**2), z)\n",
    "    phi = np.arctan2(y, x)\n",
    "    if deg:\n",
    "        theta = theta * 180 / np.pi\n",
    "        phi = phi * 180 / np.pi\n",
    "    return r, theta, phi"
   ]
  },
  {
   "cell_type": "code",
   "execution_count": null,
   "metadata": {},
   "outputs": [],
   "source": [
    "fig, ax = Lattice(lattice_name=\"bcc\", indices=(1,1,2), returns=True)\n",
    "a1 = np.array([0.5, 0.5, 0.5])\n",
    "theta = np.arctan2(np.sqrt(a1[0]**2 + a1[1]**2), a1[2])*180/np.pi\n",
    "phi = np.arctan2(a1[1], a1[0])*180/np.pi\n",
    "\n",
    "G = 2*np.pi*np.array([1,1,2])\n",
    "\n",
    "_, theta, phi = spherical(G)\n",
    "ax.view_init(elev=-theta, azim=phi-180+90)\n",
    "\n",
    "# So elev = theta-90, azim = phi-180\n",
    "# all in degrees\n",
    "# If we choose elev = 15, then we can find the corresponding phi needed to make it \n",
    "# That means theta = 15+90 = 105"
   ]
  },
  {
   "cell_type": "code",
   "execution_count": 6,
   "metadata": {},
   "outputs": [],
   "source": [
    "Scattering(k_in=[0,1.5,-1.5], highlight=(2, -1, 2), laue_scale=2)"
   ]
  },
  {
   "cell_type": "code",
   "execution_count": null,
   "metadata": {},
   "outputs": [],
   "source": [
    "# Tight-binding fermi surface\n",
    "\n",
    "kx = np.linspace(-np.pi, np.pi, 101)\n",
    "ky = np.linspace(-np.pi, np.pi, 101)\n",
    "\n",
    "kxs,kys = np.meshgrid(kx,ky)\n",
    "E = -(np.cos(kxs)+np.cos(kys))\n",
    "\n",
    "flattened = E.flatten()\n",
    "sorted_ = np.sort(flattened)\n",
    "index = np.arange(sorted_.size)\n",
    "highest = np.ceil((100**2)/2).astype('int')\n",
    "allowed = sorted_[index < highest]\n",
    "max_E = np.amax(allowed)\n",
    "\n",
    "max_E_mat = max_E * np.ones((101, 101))\n",
    "\n",
    "\n",
    "DeltaE = E[0,50]-max_E\n",
    "\n",
    "\n",
    "fig = plt.figure()\n",
    "ax = fig.gca(projection=\"3d\")\n",
    "ax.plot_surface(kxs, kys, E)\n",
    "ax.plot_surface(kxs, kys, max_E_mat)\n",
    "\n",
    "\n",
    "fig2 = plt.figure()\n",
    "ax2 = fig2.gca()\n",
    "ax2.contour(E, max_E)\n",
    "\n",
    "plt.show()"
   ]
  },
  {
   "cell_type": "code",
   "execution_count": null,
   "metadata": {},
   "outputs": [],
   "source": [
    "# DeltaE functional dependence on V0\n",
    "\n",
    "num_V0 = 21\n",
    "Vmin = 0\n",
    "Vmax = 2\n",
    "V0s = np.linspace(Vmin, Vmax, num_V0)\n",
    "DeltaE = np.zeros(V0s.shape)\n",
    "G_range = list(range(-3, 4))\n",
    "n_k = 51\n",
    "for i in range(num_V0):\n",
    "    _, _, band, max_E = Band_structure(V0=V0s[i], n_k = n_k, G_range=G_range, potential=\"harmonic\")\n",
    "    min_, max_ = np.amin(band), np.amax(band)\n",
    "    Edge_E = band[0, np.floor(n_k/2).astype('int')]\n",
    "    DeltaE[i] = (Edge_E - max_E)/(max_ - min_)\n",
    "\n",
    "fig_delta = plt.figure()\n",
    "ax_delta = fig_delta.gca()\n",
    "ax_delta.scatter(V0s, DeltaE)\n",
    "#ax_delta.set_xscale('log')\n",
    "ax_delta.set_xlabel('$V_0$')\n",
    "ax_delta.set_ylabel('$(E_{edge} - E_F)/bandwidth$')\n",
    "ax_delta.set_title(\"Harmonic potential\")\n",
    "plt.tight_layout()\n",
    "plt.show()"
   ]
  }
 ],
 "metadata": {
  "kernelspec": {
   "display_name": "Python 3",
   "language": "python",
   "name": "python3"
  },
  "language_info": {
   "codemirror_mode": {
    "name": "ipython",
    "version": 3
   },
   "file_extension": ".py",
   "mimetype": "text/x-python",
   "name": "python",
   "nbconvert_exporter": "python",
   "pygments_lexer": "ipython3",
   "version": "3.6.5"
  }
 },
 "nbformat": 4,
 "nbformat_minor": 2
}
