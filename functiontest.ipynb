{
 "cells": [
  {
   "cell_type": "code",
   "execution_count": 1,
   "metadata": {
    "collapsed": true
   },
   "outputs": [],
   "source": [
    "from cmp import *\n",
    "% matplotlib notebook\n",
    "np.set_printoptions(threshold=np.nan)\n",
    "import pdir\n"
   ]
  },
  {
   "cell_type": "code",
   "execution_count": 2,
   "metadata": {
    "collapsed": true
   },
   "outputs": [],
   "source": [
    "def Reciprocal(a1=d[0], a2=d[1], a3=d[2], indices=np.array([1, 1, 1]),\n",
    "               colors=d[4], sizes=d[5],\n",
    "               min_=d[8], max_=d[9], lattice_name=None, verbose=False):\n",
    "    if lattice_name is not None:\n",
    "        lattice, basis = lattices.chooser(lattice_name, verbose=verbose)\n",
    "        a1, a2, a3 = lattice\n",
    "        # Classify the lattice\n",
    "    else:\n",
    "        lattice_type = lattices.classifier(a1, a2, a3, basis)\n",
    "\n",
    "        # Rotate the lattice\n",
    "        a1, a2, a3, basis = lattices.rotator(a1, a2, a3, basis,\n",
    "                                             lattice_type, verbose=verbose)\n",
    "    \n",
    "    basis = np.array([0,0,0])\n",
    "    \n",
    "    length_basis = np.shape(basis)\n",
    "    if len(length_basis) == 1:\n",
    "        n_basis = 1\n",
    "    elif len(length_basis) > 1:\n",
    "        n_basis = length_basis[0]\n",
    "\n",
    "    # Make a list, n_basis long, for the colors and sizes,\n",
    "    # if they're not specified.\n",
    "    c_name = colors.__class__.__name__\n",
    "    if c_name == \"str\":\n",
    "        c = colors\n",
    "        colors = []\n",
    "        for i in range(n_basis):\n",
    "            colors.append(c)\n",
    "    elif c_name == \"list\" and len(colors) < n_basis:\n",
    "        c = colors[0]\n",
    "        colors = []\n",
    "        for i in range(n_basis):\n",
    "            colors.append(c)\n",
    "\n",
    "    s_name = sizes.__class__.__name__\n",
    "    if s_name == \"int\" or s_name == \"float\":\n",
    "        s = sizes\n",
    "        sizes = []\n",
    "        for i in range(n_basis):\n",
    "            sizes.append(s)\n",
    "    elif s_name == \"list\" and len(sizes) < n_basis:\n",
    "        s = sizes[0]\n",
    "        sizes = []\n",
    "        for i in range(n_basis):\n",
    "            sizes.append(s)\n",
    "    \n",
    "    # First the scaling factor for the reciprocal lattice\n",
    "    scale = a1.dot(np.cross(a2, a3))\n",
    "    # Then the reciprocal lattice\n",
    "    b1 = 2 * np.pi * np.cross(a2, a3) / scale\n",
    "    b2 = 2 * np.pi * np.cross(a3, a1) / scale\n",
    "    b3 = 2 * np.pi * np.cross(a1, a2) / scale\n",
    "    \n",
    "    # Next we find the limits:\n",
    "    lim_type = 'proper'\n",
    "    r_min, r_max, n_min, n_max = lattices.find_limits(lim_type, b1, b2, b3,\n",
    "                                                      min_, max_)\n",
    "    \n",
    "    (atomic_positions, lattice_coefficients, atomic_colors, atomic_sizes,\n",
    "     lattice_position) = lattices.generator(a1, a2, a3, basis, colors, sizes,\n",
    "                                            lim_type, n_min, n_max, r_min,\n",
    "                                            r_max)\n",
    "    # Then we get the planes\n",
    "    h,k,l = indices\n",
    "    d, planes = lattices.reciprocal(b1, b2, b3, h, k, l, r_min, r_max)\n",
    "    \n",
    "    # Objects to limit to the plot-box\n",
    "    objects = [atomic_positions, lattice_coefficients, atomic_colors,\n",
    "               atomic_sizes, lattice_position]\n",
    "    objects = lattices.limiter(atomic_positions, objects, r_min, r_max)\n",
    "    \n",
    "    # Prune each of the planes\n",
    "    planes = [lattices.limiter(p, p, r_min, r_max) for p in planes]\n",
    "    # Create the figure\n",
    "    fig = plt.figure()\n",
    "    ax = fig.gca(projection=\"3d\")\n",
    "\n",
    "    # Plot atoms. For now a single size and color\n",
    "    ax.scatter(atomic_positions[:, 0], atomic_positions[:, 1],\n",
    "               atomic_positions[:, 2], c=atomic_colors, s=atomic_sizes)\n",
    "\n",
    "    # plot the displacement vector\n",
    "    ax.quiver(0, 0, 0, d[0], d[1], d[2])\n",
    "    ax.text(d[0] / 2, d[1] / 2, d[2] / 2, '$d$')\n",
    "    \n",
    "    for p in planes:\n",
    "        ax.plot_surface(p[:, 0], p[:, 1], p[:, 2])\n",
    "    # Set limits, orthographic projection (so we get the beautiful hexagons),\n",
    "    # no automatic gridlines, and no axes\n",
    "    ax.set_aspect('equal')\n",
    "    ax.set_proj_type('ortho')\n",
    "    ax.set_xlim3d([r_min[0], r_max[0]])\n",
    "    ax.set_ylim3d([r_min[1], r_max[1]])\n",
    "    ax.set_zlim3d([r_min[2], r_max[2]])\n",
    "    ax.grid(False)\n",
    "    plt.axis('equal')\n",
    "    plt.axis('off')\n",
    "\n",
    "    # make the panes transparent (the plot box)\n",
    "    ax.xaxis.set_pane_color((1.0, 1.0, 1.0, 0.0))\n",
    "    ax.yaxis.set_pane_color((1.0, 1.0, 1.0, 0.0))\n",
    "    ax.zaxis.set_pane_color((1.0, 1.0, 1.0, 0.0))\n",
    "    plt.show()\n",
    "    "
   ]
  },
  {
   "cell_type": "code",
   "execution_count": 3,
   "metadata": {
    "scrolled": false
   },
   "outputs": [
    {
     "name": "stdout",
     "output_type": "stream",
     "text": [
      "Returning the following lattice and basis\n",
      "[[ 0.5       -0.8660254  0.       ]\n",
      " [ 0.5        0.8660254  0.       ]\n",
      " [ 0.         0.         1.5      ]]\n",
      "[[ 0.          0.          0.        ]\n",
      " [ 0.         -0.57735027  0.75      ]\n",
      " [ 0.          0.          0.5625    ]\n",
      " [ 0.         -0.57735027  1.3125    ]]\n"
     ]
    },
    {
     "ename": "UnboundLocalError",
     "evalue": "local variable 'lattice_type' referenced before assignment",
     "output_type": "error",
     "traceback": [
      "\u001b[1;31m---------------------------------------------------------------------------\u001b[0m",
      "\u001b[1;31mUnboundLocalError\u001b[0m                         Traceback (most recent call last)",
      "\u001b[1;32m<ipython-input-3-4ebee077afec>\u001b[0m in \u001b[0;36m<module>\u001b[1;34m()\u001b[0m\n\u001b[0;32m     33\u001b[0m \u001b[1;33m\u001b[0m\u001b[0m\n\u001b[0;32m     34\u001b[0m \u001b[1;31m#LatticeCreator(a1,a2,a3,basis,colors,sizes,LimType,GridType,Mins,Maxs)\u001b[0m\u001b[1;33m\u001b[0m\u001b[1;33m\u001b[0m\u001b[0m\n\u001b[1;32m---> 35\u001b[1;33m \u001b[0mLattice\u001b[0m\u001b[1;33m(\u001b[0m\u001b[0mlattice_name\u001b[0m \u001b[1;33m=\u001b[0m \u001b[0mLatticeType\u001b[0m\u001b[1;33m,\u001b[0m \u001b[0mcolors\u001b[0m \u001b[1;33m=\u001b[0m \u001b[0mblargh\u001b[0m\u001b[1;33m,\u001b[0m \u001b[0msizes\u001b[0m \u001b[1;33m=\u001b[0m \u001b[0msizes\u001b[0m\u001b[1;33m,\u001b[0m \u001b[0mmax_\u001b[0m \u001b[1;33m=\u001b[0m \u001b[0mMaxs\u001b[0m\u001b[1;33m,\u001b[0m \u001b[0mverbose\u001b[0m\u001b[1;33m=\u001b[0m\u001b[1;32mTrue\u001b[0m\u001b[1;33m)\u001b[0m\u001b[1;33m\u001b[0m\u001b[0m\n\u001b[0m",
      "\u001b[1;32m~\\Dropbox\\KU\\3 year\\bachelor\\cmp.py\u001b[0m in \u001b[0;36mLattice\u001b[1;34m(a1, a2, a3, basis, colors, sizes, lim_type, grid_type, min_, max_, lattice_name, verbose)\u001b[0m\n\u001b[0;32m     91\u001b[0m     \u001b[1;32mif\u001b[0m \u001b[0mgrid_type\u001b[0m \u001b[1;32mis\u001b[0m \u001b[1;32mnot\u001b[0m \u001b[1;32mNone\u001b[0m\u001b[1;33m:\u001b[0m\u001b[1;33m\u001b[0m\u001b[0m\n\u001b[0;32m     92\u001b[0m         \u001b[1;32mpass\u001b[0m\u001b[1;33m\u001b[0m\u001b[0m\n\u001b[1;32m---> 93\u001b[1;33m     \u001b[1;32melif\u001b[0m \u001b[0mlattice_type\u001b[0m \u001b[1;33m==\u001b[0m \u001b[1;34m\"undetermined\"\u001b[0m\u001b[1;33m:\u001b[0m\u001b[1;33m\u001b[0m\u001b[0m\n\u001b[0m\u001b[0;32m     94\u001b[0m         \u001b[0mgrid_type\u001b[0m \u001b[1;33m=\u001b[0m \u001b[0md\u001b[0m\u001b[1;33m[\u001b[0m\u001b[1;36m7\u001b[0m\u001b[1;33m]\u001b[0m\u001b[1;33m\u001b[0m\u001b[0m\n\u001b[0;32m     95\u001b[0m     \u001b[1;32melse\u001b[0m\u001b[1;33m:\u001b[0m\u001b[1;33m\u001b[0m\u001b[0m\n",
      "\u001b[1;31mUnboundLocalError\u001b[0m: local variable 'lattice_type' referenced before assignment"
     ]
    }
   ],
   "source": [
    "# Inputs\n",
    "eq = np.isclose\n",
    "# Lattice vectors (3 vectors of length 3)\n",
    "a = 1\n",
    "b = 2\n",
    "a1 = np.array([1, 0, 0])\n",
    "a2 = np.array([0, 1, 0])\n",
    "a3 = np.array([0, 0, 1])\n",
    "theta = 80*np.pi/180\n",
    "\n",
    "# Array of basis vectors\n",
    "basis = np.array([[0,0,0],[0.5,0.5,0],[0.5,0,0.5],[0,0.5,0.5]])\n",
    "# Colors for each of the basis vectors\n",
    "blargh = ('r', 'r','b','b')\n",
    "# Size multiplier for each of the atoms. Default is 1\n",
    "sizes = (2,2,1,1)\n",
    "verbose = True\n",
    "\n",
    "\n",
    "# Gridline type:\n",
    "# Soft: Lines along cartesian axes. Takes into account nonequal lattice spacing\n",
    "# LatticeVectors: Lines along the latticevectors (only on lattice points)\n",
    "GridType = \"lattice\"\n",
    "\n",
    "# Limit type:\n",
    "# individual: Sets the limits as max(nx*a1,ny*a2,nz*a3), so we include nx unitcells in the a1 direction, etc.\n",
    "# sum: Sets the limits r_min = n_min*[a1 a2 a3] and likewise for n_max\n",
    "LimType = \"dynamic\"\n",
    "Maxs = [2,2,2]\n",
    "Mins = [0,0,0]\n",
    "\n",
    "LatticeType = \"wurtzite\"\n",
    "\n",
    "#LatticeCreator(a1,a2,a3,basis,colors,sizes,LimType,GridType,Mins,Maxs)\n",
    "Lattice(lattice_name = LatticeType, colors = blargh, sizes = sizes, max_ = Maxs, verbose=True)\n"
   ]
  },
  {
   "cell_type": "code",
   "execution_count": 4,
   "metadata": {},
   "outputs": [
    {
     "name": "stdout",
     "output_type": "stream",
     "text": [
      "38 0\n"
     ]
    },
    {
     "ename": "ValueError",
     "evalue": "operands could not be broadcast together with shapes (3,) (50,) ",
     "output_type": "error",
     "traceback": [
      "\u001b[1;31m---------------------------------------------------------------------------\u001b[0m",
      "\u001b[1;31mValueError\u001b[0m                                Traceback (most recent call last)",
      "\u001b[1;32m<ipython-input-4-3c741abbaa7c>\u001b[0m in \u001b[0;36m<module>\u001b[1;34m()\u001b[0m\n\u001b[1;32m----> 1\u001b[1;33m \u001b[0mReciprocal\u001b[0m\u001b[1;33m(\u001b[0m\u001b[0mlattice_name\u001b[0m\u001b[1;33m=\u001b[0m\u001b[1;34m\"simple cubic\"\u001b[0m\u001b[1;33m)\u001b[0m\u001b[1;33m\u001b[0m\u001b[0m\n\u001b[0m",
      "\u001b[1;32m<ipython-input-2-b513b784f5dd>\u001b[0m in \u001b[0;36mReciprocal\u001b[1;34m(a1, a2, a3, indices, colors, sizes, min_, max_, lattice_name, verbose)\u001b[0m\n\u001b[0;32m     73\u001b[0m \u001b[1;33m\u001b[0m\u001b[0m\n\u001b[0;32m     74\u001b[0m     \u001b[1;31m# Prune each of the planes\u001b[0m\u001b[1;33m\u001b[0m\u001b[1;33m\u001b[0m\u001b[0m\n\u001b[1;32m---> 75\u001b[1;33m     \u001b[0mplanes\u001b[0m \u001b[1;33m=\u001b[0m \u001b[1;33m[\u001b[0m\u001b[0mlattices\u001b[0m\u001b[1;33m.\u001b[0m\u001b[0mlimiter\u001b[0m\u001b[1;33m(\u001b[0m\u001b[0mp\u001b[0m\u001b[1;33m,\u001b[0m \u001b[0mp\u001b[0m\u001b[1;33m,\u001b[0m \u001b[0mr_min\u001b[0m\u001b[1;33m,\u001b[0m \u001b[0mr_max\u001b[0m\u001b[1;33m)\u001b[0m \u001b[1;32mfor\u001b[0m \u001b[0mp\u001b[0m \u001b[1;32min\u001b[0m \u001b[0mplanes\u001b[0m\u001b[1;33m]\u001b[0m\u001b[1;33m\u001b[0m\u001b[0m\n\u001b[0m\u001b[0;32m     76\u001b[0m     \u001b[1;31m# Create the figure\u001b[0m\u001b[1;33m\u001b[0m\u001b[1;33m\u001b[0m\u001b[0m\n\u001b[0;32m     77\u001b[0m     \u001b[0mfig\u001b[0m \u001b[1;33m=\u001b[0m \u001b[0mplt\u001b[0m\u001b[1;33m.\u001b[0m\u001b[0mfigure\u001b[0m\u001b[1;33m(\u001b[0m\u001b[1;33m)\u001b[0m\u001b[1;33m\u001b[0m\u001b[0m\n",
      "\u001b[1;32m<ipython-input-2-b513b784f5dd>\u001b[0m in \u001b[0;36m<listcomp>\u001b[1;34m(.0)\u001b[0m\n\u001b[0;32m     73\u001b[0m \u001b[1;33m\u001b[0m\u001b[0m\n\u001b[0;32m     74\u001b[0m     \u001b[1;31m# Prune each of the planes\u001b[0m\u001b[1;33m\u001b[0m\u001b[1;33m\u001b[0m\u001b[0m\n\u001b[1;32m---> 75\u001b[1;33m     \u001b[0mplanes\u001b[0m \u001b[1;33m=\u001b[0m \u001b[1;33m[\u001b[0m\u001b[0mlattices\u001b[0m\u001b[1;33m.\u001b[0m\u001b[0mlimiter\u001b[0m\u001b[1;33m(\u001b[0m\u001b[0mp\u001b[0m\u001b[1;33m,\u001b[0m \u001b[0mp\u001b[0m\u001b[1;33m,\u001b[0m \u001b[0mr_min\u001b[0m\u001b[1;33m,\u001b[0m \u001b[0mr_max\u001b[0m\u001b[1;33m)\u001b[0m \u001b[1;32mfor\u001b[0m \u001b[0mp\u001b[0m \u001b[1;32min\u001b[0m \u001b[0mplanes\u001b[0m\u001b[1;33m]\u001b[0m\u001b[1;33m\u001b[0m\u001b[0m\n\u001b[0m\u001b[0;32m     76\u001b[0m     \u001b[1;31m# Create the figure\u001b[0m\u001b[1;33m\u001b[0m\u001b[1;33m\u001b[0m\u001b[0m\n\u001b[0;32m     77\u001b[0m     \u001b[0mfig\u001b[0m \u001b[1;33m=\u001b[0m \u001b[0mplt\u001b[0m\u001b[1;33m.\u001b[0m\u001b[0mfigure\u001b[0m\u001b[1;33m(\u001b[0m\u001b[1;33m)\u001b[0m\u001b[1;33m\u001b[0m\u001b[0m\n",
      "\u001b[1;32m~\\Dropbox\\KU\\3 year\\bachelor\\lattices.py\u001b[0m in \u001b[0;36mlimiter\u001b[1;34m(l, objects, r_min, r_max)\u001b[0m\n\u001b[0;32m    703\u001b[0m     \u001b[1;31m# those of r_max\u001b[0m\u001b[1;33m\u001b[0m\u001b[1;33m\u001b[0m\u001b[0m\n\u001b[0;32m    704\u001b[0m \u001b[1;33m\u001b[0m\u001b[0m\n\u001b[1;32m--> 705\u001b[1;33m     rows = [row_id for row_id in range(num) if\n\u001b[0m\u001b[0;32m    706\u001b[0m             ((r_min > l[row_id, ]).any() or (l[row_id, ] > r_max).any())]\n\u001b[0;32m    707\u001b[0m \u001b[1;33m\u001b[0m\u001b[0m\n",
      "\u001b[1;32m~\\Dropbox\\KU\\3 year\\bachelor\\lattices.py\u001b[0m in \u001b[0;36m<listcomp>\u001b[1;34m(.0)\u001b[0m\n\u001b[0;32m    704\u001b[0m \u001b[1;33m\u001b[0m\u001b[0m\n\u001b[0;32m    705\u001b[0m     rows = [row_id for row_id in range(num) if\n\u001b[1;32m--> 706\u001b[1;33m             ((r_min > l[row_id, ]).any() or (l[row_id, ] > r_max).any())]\n\u001b[0m\u001b[0;32m    707\u001b[0m \u001b[1;33m\u001b[0m\u001b[0m\n\u001b[0;32m    708\u001b[0m     \u001b[0mlimited_objects\u001b[0m \u001b[1;33m=\u001b[0m \u001b[1;33m[\u001b[0m\u001b[1;33m]\u001b[0m\u001b[1;33m\u001b[0m\u001b[0m\n",
      "\u001b[1;31mValueError\u001b[0m: operands could not be broadcast together with shapes (3,) (50,) "
     ]
    }
   ],
   "source": [
    "Reciprocal(lattice_name=\"simple cubic\")"
   ]
  },
  {
   "cell_type": "code",
   "execution_count": null,
   "metadata": {
    "collapsed": true
   },
   "outputs": [],
   "source": []
  }
 ],
 "metadata": {
  "kernelspec": {
   "display_name": "Python 3",
   "language": "python",
   "name": "python3"
  },
  "language_info": {
   "codemirror_mode": {
    "name": "ipython",
    "version": 3
   },
   "file_extension": ".py",
   "mimetype": "text/x-python",
   "name": "python",
   "nbconvert_exporter": "python",
   "pygments_lexer": "ipython3",
   "version": "3.6.4"
  }
 },
 "nbformat": 4,
 "nbformat_minor": 2
}
