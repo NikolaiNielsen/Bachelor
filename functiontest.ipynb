{
 "cells": [
  {
   "cell_type": "markdown",
   "metadata": {},
   "source": [
    "# Stuff to do\n",
    "* in final app, give them just the allowed options (dropdown menu, for example)"
   ]
  },
  {
   "cell_type": "code",
   "execution_count": 1,
   "metadata": {},
   "outputs": [],
   "source": [
    "from cmp import *\n",
    "import pdir\n",
    "%matplotlib notebook\n",
    "np.seterr(invalid='ignore')\n",
    "np.set_printoptions(threshold=np.nan)"
   ]
  },
  {
   "cell_type": "code",
   "execution_count": 2,
   "metadata": {
    "scrolled": false
   },
   "outputs": [],
   "source": [
    "# Inputs\n",
    "eq = np.isclose\n",
    "# Lattice vectors (3 vectors of length 3)\n",
    "a = 1\n",
    "b = 2\n",
    "a1 = np.array([1, 0, 0])\n",
    "a2 = np.array([0, 1, 0])\n",
    "a3 = np.array([0, 0, 1])\n",
    "theta = 80*np.pi/180\n",
    "\n",
    "# Array of basis vectors\n",
    "basis = np.array([[0,0,0],[0.5,0.5,0],[0.5,0,0.5],[0,0.5,0.5]])\n",
    "# Colors for each of the basis vectors\n",
    "blargh = ('r', 'r','b','b')\n",
    "# Size multiplier for each of the atoms. Default is 1\n",
    "sizes = (2,2,1,1)\n",
    "verbose = True\n",
    "\n",
    "\n",
    "# Gridline type:\n",
    "# Soft: Lines along cartesian axes. Takes into account nonequal lattice spacing\n",
    "# LatticeVectors: Lines along the latticevectors (only on lattice points)\n",
    "GridType = \"lattice\"\n",
    "\n",
    "# Limit type:\n",
    "# individual: Sets the limits as max(nx*a1,ny*a2,nz*a3), so we include nx unitcells in the a1 direction, etc.\n",
    "# sum: Sets the limits r_min = n_min*[a1 a2 a3] and likewise for n_max\n",
    "LimType = \"dynamic\"\n",
    "Maxs = [2,2,2]\n",
    "Mins = [0,0,0]\n",
    "\n",
    "LatticeType = \"conventional fcc\"\n",
    "\n",
    "#Lattice(lattice_name = LatticeType, colors = blargh, sizes = sizes, max_ = Maxs, verbose=True)\n",
    "#Reciprocal(lattice_name=LatticeType, indices=(1,1,0))"
   ]
  },
  {
   "cell_type": "code",
   "execution_count": 3,
   "metadata": {},
   "outputs": [],
   "source": [
    "k0 = np.linspace(0,np.pi/2, 100)\n",
    "x0 = np.cos(k0)\n",
    "P = 1\n",
    "\n",
    "def fx(x, k, V0):\n",
    "    X = np.sqrt(2)*x\n",
    "    sin0 = np.sin(X)\n",
    "    cos0 = np.cos(X)\n",
    "    f = cos0 - V0*sin0/(X) - np.cos(k)\n",
    "    return f\n",
    "\n",
    "def fxprime(x, k, V0):\n",
    "    scale = np.sqrt(2)\n",
    "    X = scale * x\n",
    "    sin0 = np.sin(X)\n",
    "    cos0 = np.cos(X)\n",
    "    fprime = -scale * sin0 + V0 * scale * sin0 / (2 * x**2) - V0 * cos0/x\n",
    "    return fprime\n",
    "\n",
    "def newtn(x, k, P, a=1):\n",
    "    sin0 = np.sin(x)\n",
    "    cos0 = np.cos(x)\n",
    "    next_ = -(cos0*x - np.cos(k*a)*x-sin0)*x/(sin0*x*x + cos0*x - sin0)\n",
    "    return next_\n",
    "\n",
    "def newtn_calc(x, k, P, iterations = 10):\n",
    "    for i in range(iterations):\n",
    "        x -= newtn(x, k, P)\n",
    "    return x\n",
    "\n",
    "\n",
    "\n",
    "alpha = newtn_calc(x0, k0, 1)\n",
    "\n",
    "## Deleting NaN\n",
    "alpha_NaN = np.isnan(alpha)\n",
    "alpha = alpha[~alpha_NaN]\n",
    "k = k0[~alpha_NaN]\n",
    "\n",
    "## Restricting values to below 1.1*pi² and above 0\n",
    "usable = alpha < 1.1* np.amax(k0)**2\n",
    "above = alpha >= 0\n",
    "ids = np.arange(alpha.size)\n",
    "non_usable_index=ids[~ (above*usable)]\n",
    "least_index = np.amin(non_usable_index)\n",
    "usable_index = np.arange(least_index)\n",
    "alpha = alpha[usable_index]\n",
    "k = k[usable_index]\n",
    "\n",
    "#fig = plt.figure()\n",
    "#ax = fig.gca()\n",
    "#ax.plot(k,alpha)"
   ]
  },
  {
   "cell_type": "code",
   "execution_count": null,
   "metadata": {},
   "outputs": [],
   "source": []
  }
 ],
 "metadata": {
  "kernelspec": {
   "display_name": "Python 3",
   "language": "python",
   "name": "python3"
  },
  "language_info": {
   "codemirror_mode": {
    "name": "ipython",
    "version": 3
   },
   "file_extension": ".py",
   "mimetype": "text/x-python",
   "name": "python",
   "nbconvert_exporter": "python",
   "pygments_lexer": "ipython3",
   "version": "3.6.4"
  }
 },
 "nbformat": 4,
 "nbformat_minor": 2
}
