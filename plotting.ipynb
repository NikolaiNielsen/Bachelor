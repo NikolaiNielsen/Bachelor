{
 "cells": [
  {
   "cell_type": "code",
   "execution_count": 2,
   "metadata": {},
   "outputs": [],
   "source": [
    "from cmp import *\n",
    "import pdir\n",
    "%matplotlib qt"
   ]
  },
  {
   "cell_type": "code",
   "execution_count": 3,
   "metadata": {},
   "outputs": [],
   "source": [
    "# Control variables\n",
    "\n",
    "plot_lattice_unfinished_1 = True\n",
    "plot_lattice_unfinished_2= True\n",
    "plot_lattice_demo = True\n",
    "plot_lattice_planes = True\n",
    "plot_scattering_none = True\n",
    "plot_scattering_systemic = True\n",
    "plot_band_structure_none = True\n",
    "plot_band_structure_strong = True\n"
   ]
  },
  {
   "cell_type": "markdown",
   "metadata": {},
   "source": [
    "### Lattice with unfinished unit cells"
   ]
  },
  {
   "cell_type": "code",
   "execution_count": 40,
   "metadata": {},
   "outputs": [],
   "source": [
    "if plot_lattice_unfinished_1:\n",
    "    a1, a2, a3 = np.eye(3)\n",
    "    basis = np.array([[0, 0, 0],\n",
    "                      [0.5, 0.5, 0.5]])\n",
    "\n",
    "    colors = ['xkcd:cement', 'b']\n",
    "    sizes = [2, 2]\n",
    "    grid_type = \"latticevectors\"\n",
    "    type_ = \"primitive\"\n",
    "    n_min = np.array([0, 0, 0])\n",
    "    n_max = np.array([1, 1, 1])\n",
    "\n",
    "\n",
    "    (atomic_positions, lattice_coefficients, atomic_colors, atomic_sizes, \n",
    "     lattice_position) = lattices.generator(a1, a2, a3, basis, colors, sizes,\n",
    "                                            n_min, n_max)\n",
    "    # Create the figure\n",
    "    fig = plt.figure(figsize=(2,2))\n",
    "    ax = fig.gca(projection=\"3d\")\n",
    "\n",
    "    # Plot atoms\n",
    "    ax.scatter(atomic_positions[:, 0], atomic_positions[:, 1],\n",
    "               atomic_positions[:, 2], c=atomic_colors, s=atomic_sizes)\n",
    "\n",
    "    # Get the relevant gridlines:\n",
    "    g_col = 'k'\n",
    "    g_w = 0.5\n",
    "    pruned_lines = lattices.grid_lines(a1, a2, a3, atomic_positions,\n",
    "                                       lattice_position, grid_type)\n",
    "    for line in pruned_lines:\n",
    "        ax.plot(line[0], line[1], line[2], color=g_col, linewidth=g_w)\n",
    "\n",
    "    ax.set_aspect('equal')\n",
    "    ax.set_proj_type('ortho')\n",
    "    ax.grid(False)\n",
    "    ax.axis('off')\n",
    "\n",
    "    # make the panes transparent (the plot box)\n",
    "    ax.xaxis.set_pane_color((1.0, 1.0, 1.0, 0.0))\n",
    "    ax.yaxis.set_pane_color((1.0, 1.0, 1.0, 0.0))\n",
    "    ax.zaxis.set_pane_color((1.0, 1.0, 1.0, 0.0))\n",
    "    \n",
    "    ax.view_init(15, -60)\n",
    "    fig.subplots_adjust(left=-0.15, right=1.15, top=1.15, bottom=-0.15)\n",
    "    fig.savefig('figures/lattice_unfinished_1.pdf')"
   ]
  },
  {
   "cell_type": "markdown",
   "metadata": {},
   "source": [
    "### Lattice with unfinished unit cells 2"
   ]
  },
  {
   "cell_type": "code",
   "execution_count": 41,
   "metadata": {},
   "outputs": [],
   "source": [
    "if plot_lattice_unfinished_2:\n",
    "    a1, a2, a3 = np.array([[0.5, 0.5, 0],\n",
    "                           [0.5, 0, 0.5],\n",
    "                           [0, 0.5, 0.5]])\n",
    "    basis = np.array([0, 0, 0])\n",
    "\n",
    "    colors = ['xkcd:cement']\n",
    "    sizes = [1]\n",
    "    grid_type = \"latticevectors\"\n",
    "    type_ = \"primitive\"\n",
    "    n_min = np.array([0, 0, 0])\n",
    "    n_max = np.array([2, 2, 2])\n",
    "\n",
    "\n",
    "    (atomic_positions, lattice_coefficients, atomic_colors, atomic_sizes, \n",
    "     lattice_position) = lattices.generator(a1, a2, a3, basis, colors, sizes,\n",
    "                                            n_min, n_max)\n",
    "    # Create the figure\n",
    "    fig = plt.figure(figsize=(2,2))\n",
    "    ax = fig.gca(projection=\"3d\")\n",
    "\n",
    "    # Plot atoms\n",
    "    ax.scatter(atomic_positions[:, 0], atomic_positions[:, 1],\n",
    "               atomic_positions[:, 2], c=atomic_colors, s=atomic_sizes)\n",
    "\n",
    "    # Get the relevant gridlines:\n",
    "    g_col = 'k'\n",
    "    g_w = 0.3\n",
    "    pruned_lines = []\n",
    "    r_min, r_max = 0, 2\n",
    "    for nx in range(n_min[0], n_max[0] + 1):\n",
    "        for ny in range(n_min[1], n_max[1] + 1):\n",
    "            pruned_lines.append([np.array([nx, nx]),\n",
    "                                 np.array([ny, ny]),\n",
    "                                 np.array([r_min, r_max])])\n",
    "        \n",
    "        for nz in range(n_min[2], n_max[2] + 1):\n",
    "            pruned_lines.append([np.array([nx, nx]),\n",
    "                                 np.array([r_min, r_max]),\n",
    "                                 np.array([nz, nz])])\n",
    "\n",
    "    for ny in range(n_min[1], n_max[1] + 1):\n",
    "        for nz in range(n_min[2], n_max[2] + 1):\n",
    "            pruned_lines.append([np.array([r_min, r_max]),\n",
    "                                 np.array([ny, ny]),\n",
    "                                 np.array([nz, nz])])\n",
    "    for line in pruned_lines:\n",
    "        ax.plot(line[0], line[1], line[2], color=g_col, linewidth=g_w)\n",
    "\n",
    "    ax.set_aspect('equal')\n",
    "    ax.set_proj_type('ortho')\n",
    "    ax.grid(False)\n",
    "    ax.axis('off')\n",
    "\n",
    "    # make the panes transparent (the plot box)\n",
    "    ax.xaxis.set_pane_color((1.0, 1.0, 1.0, 0.0))\n",
    "    ax.yaxis.set_pane_color((1.0, 1.0, 1.0, 0.0))\n",
    "    ax.zaxis.set_pane_color((1.0, 1.0, 1.0, 0.0))\n",
    "    \n",
    "    ax.view_init(15, -100)\n",
    "    \n",
    "    fig.subplots_adjust(left=-0.2, right=1.2, top=1.2, bottom=-0.2)\n",
    "    fig.savefig('figures/lattice_unfinished_2.pdf')"
   ]
  },
  {
   "cell_type": "markdown",
   "metadata": {},
   "source": [
    "### Demo of proper lattice"
   ]
  },
  {
   "cell_type": "code",
   "execution_count": 6,
   "metadata": {},
   "outputs": [],
   "source": [
    "if plot_lattice_demo:\n",
    "    fig, ax = Lattice(lattice_name=\"conventional bcc\", sizes=1,\n",
    "                      colors=['xkcd:cement', 'b'], returns=True)\n",
    "    margin = 0.2\n",
    "    fig.set_size_inches(2,2)\n",
    "    fig.subplots_adjust(left=-margin, right=1+margin, top=1+margin, bottom=-margin)\n",
    "    ax.view_init(10, -80)\n",
    "    fig.savefig('figures/lattice_demo_1.pdf')"
   ]
  },
  {
   "cell_type": "markdown",
   "metadata": {},
   "source": [
    "### Family of lattice planes"
   ]
  },
  {
   "cell_type": "code",
   "execution_count": 6,
   "metadata": {},
   "outputs": [],
   "source": [
    "if plot_lattice_planes:\n",
    "    fig, ax = Reciprocal(lattice_name=\"conventional bcc\", indices=(0,0,2), returns=True)\n",
    "    ax.view_init(10, -80)\n",
    "    margin = 0.2\n",
    "    fig.set_size_inches(2,2)\n",
    "    fig.subplots_adjust(left=-margin, right=1+margin, top=1+margin, bottom=-margin)\n",
    "    fig.savefig('figures/lattice_planes_1.pdf')"
   ]
  },
  {
   "cell_type": "markdown",
   "metadata": {},
   "source": [
    "### Scattering!"
   ]
  },
  {
   "cell_type": "code",
   "execution_count": 7,
   "metadata": {},
   "outputs": [],
   "source": [
    "if plot_scattering_none:\n",
    "    fig, ax, ax2 = Scattering(basis=np.array([[0, 0, 0],[0.5, 0.5, 0.5]]),\n",
    "                              scattering_length=np.array([1,0.5]),\n",
    "                              returns=True)\n",
    "    ax.view_init(5, -100)\n",
    "    fig.savefig('figures/scattering_no_systemic.pdf')\n",
    "\n",
    "if plot_scattering_systemic:\n",
    "    fig, ax, ax2 = Scattering(basis=np.array([[0, 0, 0],[0.5, 0.5, 0.5]]),\n",
    "                              scattering_length=np.array([1,1]),\n",
    "                              returns=True)\n",
    "    ax.view_init(5, -100)\n",
    "    fig.savefig('figures/scattering_systemic.pdf')"
   ]
  },
  {
   "cell_type": "markdown",
   "metadata": {},
   "source": [
    "### Band structures"
   ]
  },
  {
   "cell_type": "code",
   "execution_count": 9,
   "metadata": {},
   "outputs": [],
   "source": [
    "if plot_band_structure_none:\n",
    "    fig, ax, ax2 = Band_structure(returns=True)\n",
    "    fig.savefig('figures/band_structure_none.pdf')\n",
    "if plot_band_structure_strong:\n",
    "    fig, ax, ax2 = Band_structure(V0=1, returns=True)\n",
    "    fig.savefig('figures/band_structure_strong.pdf')"
   ]
  },
  {
   "cell_type": "code",
   "execution_count": null,
   "metadata": {},
   "outputs": [],
   "source": []
  }
 ],
 "metadata": {
  "kernelspec": {
   "display_name": "Python 3",
   "language": "python",
   "name": "python3"
  },
  "language_info": {
   "codemirror_mode": {
    "name": "ipython",
    "version": 3
   },
   "file_extension": ".py",
   "mimetype": "text/x-python",
   "name": "python",
   "nbconvert_exporter": "python",
   "pygments_lexer": "ipython3",
   "version": "3.6.5"
  }
 },
 "nbformat": 4,
 "nbformat_minor": 2
}
