{
 "cells": [
  {
   "cell_type": "code",
   "execution_count": 1,
   "metadata": {
    "collapsed": true
   },
   "outputs": [],
   "source": [
    "# Let's get the importing out of the way.\n",
    "# Numpy for calculations, matplotlib for plotting.\n",
    "import numpy as np\n",
    "import matplotlib as mpl\n",
    "import matplotlib.pyplot as plt\n",
    "from mpl_toolkits.mplot3d import Axes3D\n",
    "\n",
    "# Make the matplotlib plots interactive\n",
    "%matplotlib notebook"
   ]
  },
  {
   "cell_type": "code",
   "execution_count": 2,
   "metadata": {
    "collapsed": true
   },
   "outputs": [],
   "source": [
    "# Lattice vectors (3 vectors of length 3)\n",
    "a1 = np.array([0.5, 0.5, 0])\n",
    "a2 = np.array([0.5, 0, 0.5])\n",
    "a3 = np.array([0, 0.5, 0.5])\n",
    "# Array of basis vectors\n",
    "basis = np.array([[0,0,0]])\n",
    "\n",
    "# We need the number of basis-vectors. \n",
    "# If there is only 1 basis vector, then len(np.shape(basis)) == 1\n",
    "# otherwise the length is 2, and the first element is number of basis vectors\n",
    "length_basis = np.shape(basis)\n",
    "if len(length_basis) == 1:\n",
    "    N_basis = 1\n",
    "elif len(length_basis) > 1:\n",
    "    N_basis = length_basis[0]\n",
    "    \n",
    "# set the range of lattice vectors to be calculated\n",
    "nx_max, ny_max, nz_max = 4, 4, 4\n",
    "nx_min, ny_min, nz_min = -2, -2, -2\n",
    "# Calculate the amount of atomic positions to be calculated\n",
    "numAtoms = (nx_max + 1 - nx_min) * (ny_max + 1 - ny_min) * (nz_max + 1 - nz_min) * N_basis\n",
    "# Make a zero array for all of the atomic positions\n",
    "AtomicPositions = np.zeros((numAtoms, 3))\n",
    "\n",
    "# Loop over all chosen linear combinations of basis vectors and plot each \n",
    "counter = 0\n",
    "for nx in range(nx_min, nx_max + 1):\n",
    "    for ny in range(ny_min, ny_max + 1):\n",
    "        for nz in range(nz_min, nz_max + 1 ):\n",
    "            lattice_position = nx * a1 + ny * a2 + nz * a3\n",
    "            \n",
    "            for n_atom in range(N_basis):\n",
    "                AtomicPositions[counter,] = lattice_position + basis[n_atom,]\n",
    "                counter += 1\n",
    "                "
   ]
  },
  {
   "cell_type": "code",
   "execution_count": 3,
   "metadata": {
    "collapsed": true
   },
   "outputs": [],
   "source": [
    "# We need a way to hide points outside the limits\n",
    "# The limits\n",
    "x_min, y_min, z_min = 0, 0, 0\n",
    "x_max, y_max, z_max = 1, 1, 1\n",
    "atoms,dims = np.shape(AtomicPositions)\n",
    "rows = []\n",
    "\n",
    "# loop over all row ID's\n",
    "for rowID in range(atoms):\n",
    "    \n",
    "    # if the atom is outside the limits, we append the row ID to a list\n",
    "    row = AtomicPositions[rowID,]\n",
    "    # (it's actually easier and prettier to check if they're inside)\n",
    "    inside_x = x_min <= row[0] <= x_max\n",
    "    inside_y = y_min <= row[1] <= y_max\n",
    "    inside_z = z_min <= row[2] <= z_max\n",
    "    inside = inside_x and inside_y and inside_z\n",
    "    if not inside:\n",
    "        rows.append(rowID)\n",
    "\n",
    "# delete all rows (axis 0 of the array) that are outside the limits \n",
    "AtomicPositions = np.delete(AtomicPositions, rows, 0);"
   ]
  },
  {
   "cell_type": "code",
   "execution_count": 4,
   "metadata": {},
   "outputs": [
    {
     "ename": "SyntaxError",
     "evalue": "invalid syntax (<ipython-input-4-ad9b93749a0a>, line 7)",
     "output_type": "error",
     "traceback": [
      "\u001b[1;36m  File \u001b[1;32m\"<ipython-input-4-ad9b93749a0a>\"\u001b[1;36m, line \u001b[1;32m7\u001b[0m\n\u001b[1;33m    for\u001b[0m\n\u001b[1;37m        ^\u001b[0m\n\u001b[1;31mSyntaxError\u001b[0m\u001b[1;31m:\u001b[0m invalid syntax\n"
     ]
    }
   ],
   "source": [
    "# Create the figure\n",
    "fig = plt.figure()\n",
    "ax = fig.gca(projection = \"3d\")\n",
    "\n",
    "# Plot atoms. For now a single size and color\n",
    "ax.scatter(AtomicPositions[:,0], AtomicPositions[:,1], AtomicPositions[:,2], c = 'r')\n",
    "\n",
    "# Set limits and orthographic projection, so we can see those beautiful hexagons\n",
    "ax.set_xlim([x_min, x_max])\n",
    "ax.set_ylim([y_min, y_max])\n",
    "ax.set_zlim([z_min, z_max])\n",
    "ax.set_proj_type('ortho')"
   ]
  },
  {
   "cell_type": "code",
   "execution_count": null,
   "metadata": {
    "collapsed": true
   },
   "outputs": [],
   "source": []
  }
 ],
 "metadata": {
  "kernelspec": {
   "display_name": "Python 3",
   "language": "python",
   "name": "python3"
  },
  "language_info": {
   "codemirror_mode": {
    "name": "ipython",
    "version": 3
   },
   "file_extension": ".py",
   "mimetype": "text/x-python",
   "name": "python",
   "nbconvert_exporter": "python",
   "pygments_lexer": "ipython3",
   "version": "3.6.4"
  }
 },
 "nbformat": 4,
 "nbformat_minor": 2
}
